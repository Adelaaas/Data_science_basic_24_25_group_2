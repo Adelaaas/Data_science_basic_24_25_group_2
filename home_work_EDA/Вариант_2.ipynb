{
 "cells": [
  {
   "cell_type": "markdown",
   "metadata": {
    "id": "LcmJEK9ADS4G"
   },
   "source": [
    "# Вариант 2"
   ]
  },
  {
   "cell_type": "markdown",
   "metadata": {
    "id": "iZlDlQcMD0Ei"
   },
   "source": [
    "Обязательные требования:\n",
    "1. Все графики должны быть подписаны (заголовок, оси)\n",
    "2. К каждому графику должны быть представлены выводы (что вы увидели, какие зависимости, какие особенности, что тот или иной график говорит вам о данных).\n",
    "3. Графики должны быть читабельными (если сделаете такой масштаб, что ничего не будет видно или все будет налазить друг на друга - это не засчитывается)."
   ]
  },
  {
   "cell_type": "markdown",
   "metadata": {
    "id": "zekcuawxDUX_"
   },
   "source": [
    "## Загрузка данных"
   ]
  },
  {
   "cell_type": "markdown",
   "metadata": {
    "id": "yuB4mAeUEF_M"
   },
   "source": [
    "Вам дан датасет о качестве воздуха в различных регионах: `pollution_dataset.csv`\n",
    "\n",
    "Основные характеристики:\n",
    "\n",
    "- Температура (°C): Средняя температура региона.\n",
    "- Влажность (%): Относительная влажность, зарегистрированная в регионе.\n",
    "- Концентрация PM2.5 (мкг/м³): Уровни мелких твердых частиц.\n",
    "- Концентрация PM10 (мкг/м³): Уровни крупных твердых частиц.\n",
    "- Концентрация NO2 (ppb): Уровни диоксида азота.\n",
    "- Концентрация SO2 (ppb): Уровни диоксида серы.\n",
    "- Концентрация CO (ppm): Уровни оксида углерода.\n",
    "- Близость к промышленным зонам (км): Расстояние до ближайшей промышленной зоны.\n",
    "- Плотность населения (чел./км²): Количество людей на квадратный километр в регионе.\n",
    "- Уровни качества воздуха:\n",
    "    - Хорошее (Good): Чистый воздух с низким уровнем загрязнения.\n",
    "    - Умеренный (Moderate): Приемлемое качество воздуха, но присутствуют некоторые загрязняющие вещества.\n",
    "    - Плохой (Poor): Заметное загрязнение, которое может вызвать проблемы со здоровьем у чувствительных групп.\n",
    "    - Опасный (Hazardous): Сильно загрязненный воздух, представляющий серьезные риски для здоровья населения."
   ]
  },
  {
   "cell_type": "code",
   "execution_count": null,
   "metadata": {
    "id": "rTmBR5NGDRJI"
   },
   "outputs": [],
   "source": [
    "# YOUR CODE HERE"
   ]
  },
  {
   "cell_type": "markdown",
   "metadata": {
    "id": "3-b2quVbDbvJ"
   },
   "source": [
    "## График 1"
   ]
  },
  {
   "cell_type": "markdown",
   "metadata": {
    "id": "oXHGWtPgDhGA"
   },
   "source": [
    "Построить точечный график зависимости переменной `NO2` от `CO` с учётом третей переменной `Air Quality`."
   ]
  },
  {
   "cell_type": "code",
   "execution_count": null,
   "metadata": {
    "id": "N9SXgLJ9DuuJ"
   },
   "outputs": [],
   "source": [
    "# YOUR CODE HERE"
   ]
  },
  {
   "cell_type": "markdown",
   "metadata": {
    "id": "Er2BA8B0Entb"
   },
   "source": [
    "## График 2"
   ]
  },
  {
   "cell_type": "markdown",
   "metadata": {
    "id": "lDsLaW3GEo2g"
   },
   "source": [
    "Постройте 4 графика на одной фигуре, как расположить координатные плоскости - это на ваше усмотрение.\n",
    "\n",
    "Это должны быть графики для следующих переменных:\n",
    "- `Air Quality` - гистограмма\n",
    "- `Population_Density` - график распределения\n",
    "- `Temperature` - график распределения\n",
    "- `Humidity` - график распределения\n",
    "\n",
    "Каждый график должен быть своего цвета, также задайте цвет отличный от белого для бекграунда всей фигуры."
   ]
  },
  {
   "cell_type": "code",
   "execution_count": null,
   "metadata": {
    "id": "C6jX-A1_FcaD"
   },
   "outputs": [],
   "source": [
    "# YOUR CODE HERE"
   ]
  },
  {
   "cell_type": "markdown",
   "metadata": {
    "id": "9xT-h2FzFc_-"
   },
   "source": [
    "## График 3"
   ]
  },
  {
   "cell_type": "markdown",
   "metadata": {
    "id": "4IYC9y83FedC"
   },
   "source": [
    "Визуализируйте матрицу корреляции в виде heatmap.\n",
    "\n",
    "Все должно быть ЧИТАБЕЛЬНО!"
   ]
  },
  {
   "cell_type": "code",
   "execution_count": null,
   "metadata": {
    "id": "vcBIdnyJFfsu"
   },
   "outputs": [],
   "source": [
    "# YOUR CODE HERE"
   ]
  },
  {
   "cell_type": "markdown",
   "metadata": {
    "id": "WeKYbAopFuTr"
   },
   "source": [
    "## График 4"
   ]
  },
  {
   "cell_type": "markdown",
   "metadata": {
    "id": "4-2s2zEoFvu-"
   },
   "source": [
    "Постройте графики boxplot для следующих переменных:\n",
    "- `CO` с учетом переменной `Air Quality`\n",
    "- `NO2` с учетом переменной `Air Quality`\n",
    "\n",
    "Как их построить решаете самостоятельно.\n",
    "\n",
    "Проанализируйте выборы."
   ]
  },
  {
   "cell_type": "code",
   "execution_count": null,
   "metadata": {
    "id": "2ArBhYgGFv-R"
   },
   "outputs": [],
   "source": [
    "# YOUR CODE HERE"
   ]
  },
  {
   "cell_type": "markdown",
   "metadata": {
    "id": "cZpm-z5lHwbS"
   },
   "source": [
    "## График 5"
   ]
  },
  {
   "cell_type": "markdown",
   "metadata": {
    "id": "336a1ETQHyMo"
   },
   "source": [
    "Постройте heatmap для отображения пропусков в данных."
   ]
  },
  {
   "cell_type": "code",
   "execution_count": null,
   "metadata": {
    "id": "Q9NAR5Z6H8Z7"
   },
   "outputs": [],
   "source": [
    "# YOUR CODE HERE"
   ]
  },
  {
   "cell_type": "markdown",
   "metadata": {
    "id": "V7u9MYKGITMA"
   },
   "source": [
    "## График 6"
   ]
  },
  {
   "cell_type": "markdown",
   "metadata": {
    "id": "WAGKVShoJ5aL"
   },
   "source": [
    "Постройте график среднего значения переменной `PM10` в зависимости от переменной `Air Polution`."
   ]
  },
  {
   "cell_type": "code",
   "execution_count": null,
   "metadata": {
    "id": "IHgnNox5ITXa"
   },
   "outputs": [],
   "source": [
    "# YOUR CODE HERE"
   ]
  },
  {
   "cell_type": "markdown",
   "metadata": {
    "id": "xawgonsfIThp"
   },
   "source": [
    "## График 7"
   ]
  },
  {
   "cell_type": "markdown",
   "metadata": {
    "id": "1_7-c-l0IVRQ"
   },
   "source": [
    "Найдите любой **нестандартный** график и постройте его. На ваш выбор."
   ]
  },
  {
   "cell_type": "code",
   "execution_count": null,
   "metadata": {
    "id": "bpR9ri14IYzp"
   },
   "outputs": [],
   "source": [
    "# YOUR CODE HERE"
   ]
  }
 ],
 "metadata": {
  "colab": {
   "provenance": []
  },
  "kernelspec": {
   "display_name": "Python 3",
   "name": "python3"
  },
  "language_info": {
   "name": "python"
  }
 },
 "nbformat": 4,
 "nbformat_minor": 0
}
