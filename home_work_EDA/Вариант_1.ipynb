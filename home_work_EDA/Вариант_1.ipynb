{
  "nbformat": 4,
  "nbformat_minor": 0,
  "metadata": {
    "colab": {
      "provenance": []
    },
    "kernelspec": {
      "name": "python3",
      "display_name": "Python 3"
    },
    "language_info": {
      "name": "python"
    }
  },
  "cells": [
    {
      "cell_type": "markdown",
      "source": [
        "# Вариант 1"
      ],
      "metadata": {
        "id": "LcmJEK9ADS4G"
      }
    },
    {
      "cell_type": "markdown",
      "source": [
        "Обязательные требования:\n",
        "1. Все графики должны быть подписаны (заголовок, оси)\n",
        "2. К каждому графику должны быть представлены выводы (что вы увидели, какие зависимости, какие особенности, что тот или иной график говорит вам о данных).\n",
        "3. Графики должны быть читабельными (если сделаете такой масштаб, что ничего не будет видно или все будет налазить друг на друга - это не засчитывается)."
      ],
      "metadata": {
        "id": "iZlDlQcMD0Ei"
      }
    },
    {
      "cell_type": "markdown",
      "source": [
        "## Загрузка данных"
      ],
      "metadata": {
        "id": "zekcuawxDUX_"
      }
    },
    {
      "cell_type": "markdown",
      "source": [
        "Вам датасет о погоде за период времени с 2006 по 2016 год: `weatherHistory.csv`"
      ],
      "metadata": {
        "id": "yuB4mAeUEF_M"
      }
    },
    {
      "cell_type": "code",
      "execution_count": null,
      "metadata": {
        "id": "rTmBR5NGDRJI"
      },
      "outputs": [],
      "source": [
        "# YOUR CODE HERE"
      ]
    },
    {
      "cell_type": "markdown",
      "source": [
        "## График 1"
      ],
      "metadata": {
        "id": "3-b2quVbDbvJ"
      }
    },
    {
      "cell_type": "markdown",
      "source": [
        "Построить точечный график зависимости переменной `Temperature (C)` от `Wind Speed (km/h)` с учётом третей переменной `Precip Type`."
      ],
      "metadata": {
        "id": "oXHGWtPgDhGA"
      }
    },
    {
      "cell_type": "code",
      "source": [
        "# YOUR CODE HERE"
      ],
      "metadata": {
        "id": "N9SXgLJ9DuuJ"
      },
      "execution_count": null,
      "outputs": []
    },
    {
      "cell_type": "markdown",
      "source": [
        "## График 2"
      ],
      "metadata": {
        "id": "Er2BA8B0Entb"
      }
    },
    {
      "cell_type": "markdown",
      "source": [
        "Постройте 4 графика на одной фигуре, как расположить координатные плоскости - это на ваше усмотрение.\n",
        "\n",
        "Это должны быть гистограммы для следующих переменных:\n",
        "- `Precip Type`\n",
        "- `Season`\n",
        "- `DayOfWeek`\n",
        "- `Year`\n",
        "\n",
        "Каждый график должен быть своего цвета, также задайте цвет отличный от белого для бекграунда всей фигуры."
      ],
      "metadata": {
        "id": "lDsLaW3GEo2g"
      }
    },
    {
      "cell_type": "code",
      "source": [
        "# YOUR CODE HERE"
      ],
      "metadata": {
        "id": "C6jX-A1_FcaD"
      },
      "execution_count": null,
      "outputs": []
    },
    {
      "cell_type": "markdown",
      "source": [
        "## График 3"
      ],
      "metadata": {
        "id": "9xT-h2FzFc_-"
      }
    },
    {
      "cell_type": "markdown",
      "source": [
        "Визуализируйте матрицу корреляции в виде heatmap.\n",
        "\n",
        "Все должно быть ЧИТАБЕЛЬНО!"
      ],
      "metadata": {
        "id": "4IYC9y83FedC"
      }
    },
    {
      "cell_type": "code",
      "source": [
        "# YOUR CODE HERE"
      ],
      "metadata": {
        "id": "vcBIdnyJFfsu"
      },
      "execution_count": null,
      "outputs": []
    },
    {
      "cell_type": "markdown",
      "source": [
        "## График 4"
      ],
      "metadata": {
        "id": "WeKYbAopFuTr"
      }
    },
    {
      "cell_type": "markdown",
      "source": [
        "Постройте графики boxplot для следующих переменных:\n",
        "- `Temperature (C)` с учетом переменной `Precip Type`\n",
        "- `Pressure (millibars)` с учетом переменной `Precip Type`\n",
        "\n",
        "Как их построить решаете самостоятельно.\n",
        "\n",
        "Проанализируйте выборы."
      ],
      "metadata": {
        "id": "4-2s2zEoFvu-"
      }
    },
    {
      "cell_type": "code",
      "source": [
        "# YOUR CODE HERE"
      ],
      "metadata": {
        "id": "2ArBhYgGFv-R"
      },
      "execution_count": null,
      "outputs": []
    },
    {
      "cell_type": "markdown",
      "source": [
        "## График 5"
      ],
      "metadata": {
        "id": "cZpm-z5lHwbS"
      }
    },
    {
      "cell_type": "markdown",
      "source": [
        "Постройте график распределения переменной `Wind Bearing (degrees)` с учетом переменной `Precip Type`."
      ],
      "metadata": {
        "id": "336a1ETQHyMo"
      }
    },
    {
      "cell_type": "code",
      "source": [
        "# YOUR CODE HERE"
      ],
      "metadata": {
        "id": "Q9NAR5Z6H8Z7"
      },
      "execution_count": null,
      "outputs": []
    },
    {
      "cell_type": "markdown",
      "source": [
        "## График 6"
      ],
      "metadata": {
        "id": "V7u9MYKGITMA"
      }
    },
    {
      "cell_type": "markdown",
      "source": [
        "Постройте график среднегодовой температуры, т.е. график зависимости года от средней температуры в этом году."
      ],
      "metadata": {
        "id": "WAGKVShoJ5aL"
      }
    },
    {
      "cell_type": "code",
      "source": [
        "# YOUR CODE HERE"
      ],
      "metadata": {
        "id": "IHgnNox5ITXa"
      },
      "execution_count": null,
      "outputs": []
    },
    {
      "cell_type": "markdown",
      "source": [
        "## График 7"
      ],
      "metadata": {
        "id": "xawgonsfIThp"
      }
    },
    {
      "cell_type": "markdown",
      "source": [
        "Найдите любой **нестандартный** график и постройте его. На ваш выбор."
      ],
      "metadata": {
        "id": "1_7-c-l0IVRQ"
      }
    },
    {
      "cell_type": "code",
      "source": [
        "# YOUR CODE HERE"
      ],
      "metadata": {
        "id": "bpR9ri14IYzp"
      },
      "execution_count": null,
      "outputs": []
    }
  ]
}