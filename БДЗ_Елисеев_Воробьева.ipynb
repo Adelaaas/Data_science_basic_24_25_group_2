{
  "nbformat": 4,
  "nbformat_minor": 0,
  "metadata": {
    "colab": {
      "provenance": []
    },
    "kernelspec": {
      "name": "python3",
      "display_name": "Python 3"
    },
    "language_info": {
      "name": "python"
    }
  },
  "cells": [
    {
      "cell_type": "code",
      "execution_count": null,
      "metadata": {
        "id": "SfxOFhfToXbv"
      },
      "outputs": [],
      "source": [
        "import pandas as pd\n",
        "import numpy as np\n",
        "import seaborn as sns\n",
        "from geopy.distance import geodesic\n",
        "from sklearn.ensemble import GradientBoostingClassifier, RandomForestClassifier\n",
        "from sklearn.linear_model import LogisticRegression\n",
        "from sklearn.svm import SVC\n",
        "from sklearn.metrics import accuracy_score\n",
        "from sklearn.preprocessing import StandardScaler, KBinsDiscretizer\n",
        "from sklearn.preprocessing import LabelEncoder, OneHotEncoder\n",
        "from sklearn.model_selection import train_test_split, cross_val_score\n",
        "from imblearn.over_sampling import ADASYN\n",
        "from sklearn.metrics import classification_report, confusion_matrix, roc_auc_score\n",
        "import matplotlib.pyplot as plt\n",
        "from sklearn.pipeline import make_pipeline\n",
        "from sklearn.model_selection import GridSearchCV\n",
        "from sklearn.neighbors import KNeighborsClassifier"
      ]
    },
    {
      "cell_type": "code",
      "source": [
        "train_data = pd.read_csv('train_oil.csv')\n",
        "test_data = pd.read_csv('oil_test.csv')"
      ],
      "metadata": {
        "id": "z2zW-RJTp0Vk"
      },
      "execution_count": null,
      "outputs": []
    },
    {
      "cell_type": "code",
      "source": [
        "#Размеры датасетов\n",
        "print(f\"Train dataset shape: {train_data.shape}\")\n",
        "print(f\"Test dataset shape: {test_data.shape}\")"
      ],
      "metadata": {
        "colab": {
          "base_uri": "https://localhost:8080/"
        },
        "id": "p-LcEzwEp2rL",
        "outputId": "7983a24a-7002-4a5c-8c62-22dc97be34b2"
      },
      "execution_count": null,
      "outputs": [
        {
          "output_type": "stream",
          "name": "stdout",
          "text": [
            "Train dataset shape: (309, 20)\n",
            "Test dataset shape: (133, 19)\n"
          ]
        }
      ]
    },
    {
      "cell_type": "code",
      "source": [
        "train_data"
      ],
      "metadata": {
        "colab": {
          "base_uri": "https://localhost:8080/",
          "height": 738
        },
        "id": "tk716dXZp9KE",
        "outputId": "a7d5bee2-4c96-468b-a1a6-b81ad8167f2f"
      },
      "execution_count": null,
      "outputs": [
        {
          "output_type": "execute_result",
          "data": {
            "text/plain": [
              "            Field name                  Reservoir unit           Country  \\\n",
              "0              ZHIRNOV                     MELEKESKIAN            RUSSIA   \n",
              "1          LAGOA PARDA         LAGOA PARDA (URUCUTUCA)            BRAZIL   \n",
              "2               ABQAIQ                          ARAB D      SAUDI ARABIA   \n",
              "3            MURCHISON                           BRENT        UK /NORWAY   \n",
              "4         WEST PEMBINA          NISKU (PEMBINA L POOL)            CANADA   \n",
              "..                 ...                             ...               ...   \n",
              "304              HIDES                     IMBURU-TORO  PAPUA NEW GUINEA   \n",
              "305        DRAKE POINT      DRAKE POINT-INTREPID INLET            CANADA   \n",
              "306  ALTAMONT-BLUEBELL  GREEN RIVER AND COLTON/WASATCH               USA   \n",
              "307         BELL CREEK                           MUDDY               USA   \n",
              "308          WELL DRAW         MESAVERDE (TEAPOT SAND)               USA   \n",
              "\n",
              "                  Region          Basin name  \\\n",
              "0    FORMER SOVIET UNION          VOLGA-URAL   \n",
              "1          LATIN AMERICA      ESPIRITO SANTO   \n",
              "2            MIDDLE EAST            THE GULF   \n",
              "3                 EUROPE  NORTH SEA NORTHERN   \n",
              "4          NORTH AMERICA      WESTERN CANADA   \n",
              "..                   ...                 ...   \n",
              "304             FAR EAST          PAPUAN FTB   \n",
              "305        NORTH AMERICA            SVERDRUP   \n",
              "306        NORTH AMERICA               UINTA   \n",
              "307        NORTH AMERICA        POWDER RIVER   \n",
              "308        NORTH AMERICA        POWDER RIVER   \n",
              "\n",
              "                            Tectonic regime  Latitude  Longitude  \\\n",
              "0                     COMPRESSION/EVAPORITE   51.0000    44.8042   \n",
              "1                                 EXTENSION  -19.6017   -39.8332   \n",
              "2                     COMPRESSION/EVAPORITE   26.0800    49.8100   \n",
              "3                                 EXTENSION   61.3833     1.7500   \n",
              "4                               COMPRESSION   53.2287  -115.8008   \n",
              "..                                      ...       ...        ...   \n",
              "304                             COMPRESSION   -6.0136   142.8409   \n",
              "305  COMPRESSION/EVAPORITE/EXTENSION/LINKED   76.4462  -108.9172   \n",
              "306                             COMPRESSION   40.3000  -110.2100   \n",
              "307                             COMPRESSION   45.1039  -105.0967   \n",
              "308                             COMPRESSION   43.0060  -105.1392   \n",
              "\n",
              "                 Operator company Onshore/Offshore Hydrocarbon type  \\\n",
              "0                NIZHNEVOLZHSKNET          ONSHORE              OIL   \n",
              "1                       PETROBRAS          ONSHORE              OIL   \n",
              "2                    SAUDI ARAMCO          ONSHORE              OIL   \n",
              "3                             CNR         OFFSHORE              OIL   \n",
              "4                        NUMEROUS          ONSHORE              OIL   \n",
              "..                            ...              ...              ...   \n",
              "304                OIL SEARCH LTD          ONSHORE   GAS-CONDENSATE   \n",
              "305                PANARCTIC OILS          ONSHORE              GAS   \n",
              "306                      NUMEROUS          ONSHORE              OIL   \n",
              "307                   SAMUEL GARY          ONSHORE              OIL   \n",
              "308  MATRIX PRODUCTION AND OTHERS          ONSHORE              OIL   \n",
              "\n",
              "           Reservoir status Structural setting  Depth     Reservoir period  \\\n",
              "0      DECLINING PRODUCTION           FORELAND   1870        CARBONIFEROUS   \n",
              "1           NEARLY DEPLETED     PASSIVE MARGIN   4843            PALEOGENE   \n",
              "2              REJUVENATING           FORELAND   6050             JURASSIC   \n",
              "3           NEARLY DEPLETED               RIFT   8988             JURASSIC   \n",
              "4                   UNKNOWN           FORELAND   9306             DEVONIAN   \n",
              "..                      ...                ...    ...                  ...   \n",
              "304  CONTINUING DEVELOPMENT             THRUST   9905  JURASSIC-CRETACEOUS   \n",
              "305             UNDEVELOPED           FORELAND   3390             JURASSIC   \n",
              "306       MATURE PRODUCTION           FORELAND  15250            PALEOGENE   \n",
              "307         NEARLY DEPLETED           FORELAND   4300           CRETACEOUS   \n",
              "308       MATURE PRODUCTION           FORELAND   6367           CRETACEOUS   \n",
              "\n",
              "     Lithology  Thickness (gross average ft)  Thickness (net pay average ft)  \\\n",
              "0    SANDSTONE                         262.0                            33.0   \n",
              "1    SANDSTONE                        2133.0                            72.0   \n",
              "2    LIMESTONE                         250.0                           184.0   \n",
              "3    SANDSTONE                         425.0                           300.0   \n",
              "4     DOLOMITE                         233.0                           167.0   \n",
              "..         ...                           ...                             ...   \n",
              "304  SANDSTONE                         490.0                           240.0   \n",
              "305  SANDSTONE                         100.0                            71.0   \n",
              "306  SANDSTONE                        8000.0                           575.0   \n",
              "307  SANDSTONE                          45.0                            23.0   \n",
              "308  SANDSTONE                         110.0                            17.0   \n",
              "\n",
              "     Porosity  Permeability  \n",
              "0        24.0          30.0  \n",
              "1        23.0         350.0  \n",
              "2        21.0         410.0  \n",
              "3        22.0         750.0  \n",
              "4        11.8        1407.0  \n",
              "..        ...           ...  \n",
              "304      10.0         100.0  \n",
              "305      20.0         566.0  \n",
              "306       5.0           0.1  \n",
              "307      28.5        2250.0  \n",
              "308      14.0           4.3  \n",
              "\n",
              "[309 rows x 20 columns]"
            ],
            "text/html": [
              "\n",
              "  <div id=\"df-c535f08d-0f84-4559-8f7d-29b45804b220\" class=\"colab-df-container\">\n",
              "    <div>\n",
              "<style scoped>\n",
              "    .dataframe tbody tr th:only-of-type {\n",
              "        vertical-align: middle;\n",
              "    }\n",
              "\n",
              "    .dataframe tbody tr th {\n",
              "        vertical-align: top;\n",
              "    }\n",
              "\n",
              "    .dataframe thead th {\n",
              "        text-align: right;\n",
              "    }\n",
              "</style>\n",
              "<table border=\"1\" class=\"dataframe\">\n",
              "  <thead>\n",
              "    <tr style=\"text-align: right;\">\n",
              "      <th></th>\n",
              "      <th>Field name</th>\n",
              "      <th>Reservoir unit</th>\n",
              "      <th>Country</th>\n",
              "      <th>Region</th>\n",
              "      <th>Basin name</th>\n",
              "      <th>Tectonic regime</th>\n",
              "      <th>Latitude</th>\n",
              "      <th>Longitude</th>\n",
              "      <th>Operator company</th>\n",
              "      <th>Onshore/Offshore</th>\n",
              "      <th>Hydrocarbon type</th>\n",
              "      <th>Reservoir status</th>\n",
              "      <th>Structural setting</th>\n",
              "      <th>Depth</th>\n",
              "      <th>Reservoir period</th>\n",
              "      <th>Lithology</th>\n",
              "      <th>Thickness (gross average ft)</th>\n",
              "      <th>Thickness (net pay average ft)</th>\n",
              "      <th>Porosity</th>\n",
              "      <th>Permeability</th>\n",
              "    </tr>\n",
              "  </thead>\n",
              "  <tbody>\n",
              "    <tr>\n",
              "      <th>0</th>\n",
              "      <td>ZHIRNOV</td>\n",
              "      <td>MELEKESKIAN</td>\n",
              "      <td>RUSSIA</td>\n",
              "      <td>FORMER SOVIET UNION</td>\n",
              "      <td>VOLGA-URAL</td>\n",
              "      <td>COMPRESSION/EVAPORITE</td>\n",
              "      <td>51.0000</td>\n",
              "      <td>44.8042</td>\n",
              "      <td>NIZHNEVOLZHSKNET</td>\n",
              "      <td>ONSHORE</td>\n",
              "      <td>OIL</td>\n",
              "      <td>DECLINING PRODUCTION</td>\n",
              "      <td>FORELAND</td>\n",
              "      <td>1870</td>\n",
              "      <td>CARBONIFEROUS</td>\n",
              "      <td>SANDSTONE</td>\n",
              "      <td>262.0</td>\n",
              "      <td>33.0</td>\n",
              "      <td>24.0</td>\n",
              "      <td>30.0</td>\n",
              "    </tr>\n",
              "    <tr>\n",
              "      <th>1</th>\n",
              "      <td>LAGOA PARDA</td>\n",
              "      <td>LAGOA PARDA (URUCUTUCA)</td>\n",
              "      <td>BRAZIL</td>\n",
              "      <td>LATIN AMERICA</td>\n",
              "      <td>ESPIRITO SANTO</td>\n",
              "      <td>EXTENSION</td>\n",
              "      <td>-19.6017</td>\n",
              "      <td>-39.8332</td>\n",
              "      <td>PETROBRAS</td>\n",
              "      <td>ONSHORE</td>\n",
              "      <td>OIL</td>\n",
              "      <td>NEARLY DEPLETED</td>\n",
              "      <td>PASSIVE MARGIN</td>\n",
              "      <td>4843</td>\n",
              "      <td>PALEOGENE</td>\n",
              "      <td>SANDSTONE</td>\n",
              "      <td>2133.0</td>\n",
              "      <td>72.0</td>\n",
              "      <td>23.0</td>\n",
              "      <td>350.0</td>\n",
              "    </tr>\n",
              "    <tr>\n",
              "      <th>2</th>\n",
              "      <td>ABQAIQ</td>\n",
              "      <td>ARAB D</td>\n",
              "      <td>SAUDI ARABIA</td>\n",
              "      <td>MIDDLE EAST</td>\n",
              "      <td>THE GULF</td>\n",
              "      <td>COMPRESSION/EVAPORITE</td>\n",
              "      <td>26.0800</td>\n",
              "      <td>49.8100</td>\n",
              "      <td>SAUDI ARAMCO</td>\n",
              "      <td>ONSHORE</td>\n",
              "      <td>OIL</td>\n",
              "      <td>REJUVENATING</td>\n",
              "      <td>FORELAND</td>\n",
              "      <td>6050</td>\n",
              "      <td>JURASSIC</td>\n",
              "      <td>LIMESTONE</td>\n",
              "      <td>250.0</td>\n",
              "      <td>184.0</td>\n",
              "      <td>21.0</td>\n",
              "      <td>410.0</td>\n",
              "    </tr>\n",
              "    <tr>\n",
              "      <th>3</th>\n",
              "      <td>MURCHISON</td>\n",
              "      <td>BRENT</td>\n",
              "      <td>UK /NORWAY</td>\n",
              "      <td>EUROPE</td>\n",
              "      <td>NORTH SEA NORTHERN</td>\n",
              "      <td>EXTENSION</td>\n",
              "      <td>61.3833</td>\n",
              "      <td>1.7500</td>\n",
              "      <td>CNR</td>\n",
              "      <td>OFFSHORE</td>\n",
              "      <td>OIL</td>\n",
              "      <td>NEARLY DEPLETED</td>\n",
              "      <td>RIFT</td>\n",
              "      <td>8988</td>\n",
              "      <td>JURASSIC</td>\n",
              "      <td>SANDSTONE</td>\n",
              "      <td>425.0</td>\n",
              "      <td>300.0</td>\n",
              "      <td>22.0</td>\n",
              "      <td>750.0</td>\n",
              "    </tr>\n",
              "    <tr>\n",
              "      <th>4</th>\n",
              "      <td>WEST PEMBINA</td>\n",
              "      <td>NISKU (PEMBINA L POOL)</td>\n",
              "      <td>CANADA</td>\n",
              "      <td>NORTH AMERICA</td>\n",
              "      <td>WESTERN CANADA</td>\n",
              "      <td>COMPRESSION</td>\n",
              "      <td>53.2287</td>\n",
              "      <td>-115.8008</td>\n",
              "      <td>NUMEROUS</td>\n",
              "      <td>ONSHORE</td>\n",
              "      <td>OIL</td>\n",
              "      <td>UNKNOWN</td>\n",
              "      <td>FORELAND</td>\n",
              "      <td>9306</td>\n",
              "      <td>DEVONIAN</td>\n",
              "      <td>DOLOMITE</td>\n",
              "      <td>233.0</td>\n",
              "      <td>167.0</td>\n",
              "      <td>11.8</td>\n",
              "      <td>1407.0</td>\n",
              "    </tr>\n",
              "    <tr>\n",
              "      <th>...</th>\n",
              "      <td>...</td>\n",
              "      <td>...</td>\n",
              "      <td>...</td>\n",
              "      <td>...</td>\n",
              "      <td>...</td>\n",
              "      <td>...</td>\n",
              "      <td>...</td>\n",
              "      <td>...</td>\n",
              "      <td>...</td>\n",
              "      <td>...</td>\n",
              "      <td>...</td>\n",
              "      <td>...</td>\n",
              "      <td>...</td>\n",
              "      <td>...</td>\n",
              "      <td>...</td>\n",
              "      <td>...</td>\n",
              "      <td>...</td>\n",
              "      <td>...</td>\n",
              "      <td>...</td>\n",
              "      <td>...</td>\n",
              "    </tr>\n",
              "    <tr>\n",
              "      <th>304</th>\n",
              "      <td>HIDES</td>\n",
              "      <td>IMBURU-TORO</td>\n",
              "      <td>PAPUA NEW GUINEA</td>\n",
              "      <td>FAR EAST</td>\n",
              "      <td>PAPUAN FTB</td>\n",
              "      <td>COMPRESSION</td>\n",
              "      <td>-6.0136</td>\n",
              "      <td>142.8409</td>\n",
              "      <td>OIL SEARCH LTD</td>\n",
              "      <td>ONSHORE</td>\n",
              "      <td>GAS-CONDENSATE</td>\n",
              "      <td>CONTINUING DEVELOPMENT</td>\n",
              "      <td>THRUST</td>\n",
              "      <td>9905</td>\n",
              "      <td>JURASSIC-CRETACEOUS</td>\n",
              "      <td>SANDSTONE</td>\n",
              "      <td>490.0</td>\n",
              "      <td>240.0</td>\n",
              "      <td>10.0</td>\n",
              "      <td>100.0</td>\n",
              "    </tr>\n",
              "    <tr>\n",
              "      <th>305</th>\n",
              "      <td>DRAKE POINT</td>\n",
              "      <td>DRAKE POINT-INTREPID INLET</td>\n",
              "      <td>CANADA</td>\n",
              "      <td>NORTH AMERICA</td>\n",
              "      <td>SVERDRUP</td>\n",
              "      <td>COMPRESSION/EVAPORITE/EXTENSION/LINKED</td>\n",
              "      <td>76.4462</td>\n",
              "      <td>-108.9172</td>\n",
              "      <td>PANARCTIC OILS</td>\n",
              "      <td>ONSHORE</td>\n",
              "      <td>GAS</td>\n",
              "      <td>UNDEVELOPED</td>\n",
              "      <td>FORELAND</td>\n",
              "      <td>3390</td>\n",
              "      <td>JURASSIC</td>\n",
              "      <td>SANDSTONE</td>\n",
              "      <td>100.0</td>\n",
              "      <td>71.0</td>\n",
              "      <td>20.0</td>\n",
              "      <td>566.0</td>\n",
              "    </tr>\n",
              "    <tr>\n",
              "      <th>306</th>\n",
              "      <td>ALTAMONT-BLUEBELL</td>\n",
              "      <td>GREEN RIVER AND COLTON/WASATCH</td>\n",
              "      <td>USA</td>\n",
              "      <td>NORTH AMERICA</td>\n",
              "      <td>UINTA</td>\n",
              "      <td>COMPRESSION</td>\n",
              "      <td>40.3000</td>\n",
              "      <td>-110.2100</td>\n",
              "      <td>NUMEROUS</td>\n",
              "      <td>ONSHORE</td>\n",
              "      <td>OIL</td>\n",
              "      <td>MATURE PRODUCTION</td>\n",
              "      <td>FORELAND</td>\n",
              "      <td>15250</td>\n",
              "      <td>PALEOGENE</td>\n",
              "      <td>SANDSTONE</td>\n",
              "      <td>8000.0</td>\n",
              "      <td>575.0</td>\n",
              "      <td>5.0</td>\n",
              "      <td>0.1</td>\n",
              "    </tr>\n",
              "    <tr>\n",
              "      <th>307</th>\n",
              "      <td>BELL CREEK</td>\n",
              "      <td>MUDDY</td>\n",
              "      <td>USA</td>\n",
              "      <td>NORTH AMERICA</td>\n",
              "      <td>POWDER RIVER</td>\n",
              "      <td>COMPRESSION</td>\n",
              "      <td>45.1039</td>\n",
              "      <td>-105.0967</td>\n",
              "      <td>SAMUEL GARY</td>\n",
              "      <td>ONSHORE</td>\n",
              "      <td>OIL</td>\n",
              "      <td>NEARLY DEPLETED</td>\n",
              "      <td>FORELAND</td>\n",
              "      <td>4300</td>\n",
              "      <td>CRETACEOUS</td>\n",
              "      <td>SANDSTONE</td>\n",
              "      <td>45.0</td>\n",
              "      <td>23.0</td>\n",
              "      <td>28.5</td>\n",
              "      <td>2250.0</td>\n",
              "    </tr>\n",
              "    <tr>\n",
              "      <th>308</th>\n",
              "      <td>WELL DRAW</td>\n",
              "      <td>MESAVERDE (TEAPOT SAND)</td>\n",
              "      <td>USA</td>\n",
              "      <td>NORTH AMERICA</td>\n",
              "      <td>POWDER RIVER</td>\n",
              "      <td>COMPRESSION</td>\n",
              "      <td>43.0060</td>\n",
              "      <td>-105.1392</td>\n",
              "      <td>MATRIX PRODUCTION AND OTHERS</td>\n",
              "      <td>ONSHORE</td>\n",
              "      <td>OIL</td>\n",
              "      <td>MATURE PRODUCTION</td>\n",
              "      <td>FORELAND</td>\n",
              "      <td>6367</td>\n",
              "      <td>CRETACEOUS</td>\n",
              "      <td>SANDSTONE</td>\n",
              "      <td>110.0</td>\n",
              "      <td>17.0</td>\n",
              "      <td>14.0</td>\n",
              "      <td>4.3</td>\n",
              "    </tr>\n",
              "  </tbody>\n",
              "</table>\n",
              "<p>309 rows × 20 columns</p>\n",
              "</div>\n",
              "    <div class=\"colab-df-buttons\">\n",
              "\n",
              "  <div class=\"colab-df-container\">\n",
              "    <button class=\"colab-df-convert\" onclick=\"convertToInteractive('df-c535f08d-0f84-4559-8f7d-29b45804b220')\"\n",
              "            title=\"Convert this dataframe to an interactive table.\"\n",
              "            style=\"display:none;\">\n",
              "\n",
              "  <svg xmlns=\"http://www.w3.org/2000/svg\" height=\"24px\" viewBox=\"0 -960 960 960\">\n",
              "    <path d=\"M120-120v-720h720v720H120Zm60-500h600v-160H180v160Zm220 220h160v-160H400v160Zm0 220h160v-160H400v160ZM180-400h160v-160H180v160Zm440 0h160v-160H620v160ZM180-180h160v-160H180v160Zm440 0h160v-160H620v160Z\"/>\n",
              "  </svg>\n",
              "    </button>\n",
              "\n",
              "  <style>\n",
              "    .colab-df-container {\n",
              "      display:flex;\n",
              "      gap: 12px;\n",
              "    }\n",
              "\n",
              "    .colab-df-convert {\n",
              "      background-color: #E8F0FE;\n",
              "      border: none;\n",
              "      border-radius: 50%;\n",
              "      cursor: pointer;\n",
              "      display: none;\n",
              "      fill: #1967D2;\n",
              "      height: 32px;\n",
              "      padding: 0 0 0 0;\n",
              "      width: 32px;\n",
              "    }\n",
              "\n",
              "    .colab-df-convert:hover {\n",
              "      background-color: #E2EBFA;\n",
              "      box-shadow: 0px 1px 2px rgba(60, 64, 67, 0.3), 0px 1px 3px 1px rgba(60, 64, 67, 0.15);\n",
              "      fill: #174EA6;\n",
              "    }\n",
              "\n",
              "    .colab-df-buttons div {\n",
              "      margin-bottom: 4px;\n",
              "    }\n",
              "\n",
              "    [theme=dark] .colab-df-convert {\n",
              "      background-color: #3B4455;\n",
              "      fill: #D2E3FC;\n",
              "    }\n",
              "\n",
              "    [theme=dark] .colab-df-convert:hover {\n",
              "      background-color: #434B5C;\n",
              "      box-shadow: 0px 1px 3px 1px rgba(0, 0, 0, 0.15);\n",
              "      filter: drop-shadow(0px 1px 2px rgba(0, 0, 0, 0.3));\n",
              "      fill: #FFFFFF;\n",
              "    }\n",
              "  </style>\n",
              "\n",
              "    <script>\n",
              "      const buttonEl =\n",
              "        document.querySelector('#df-c535f08d-0f84-4559-8f7d-29b45804b220 button.colab-df-convert');\n",
              "      buttonEl.style.display =\n",
              "        google.colab.kernel.accessAllowed ? 'block' : 'none';\n",
              "\n",
              "      async function convertToInteractive(key) {\n",
              "        const element = document.querySelector('#df-c535f08d-0f84-4559-8f7d-29b45804b220');\n",
              "        const dataTable =\n",
              "          await google.colab.kernel.invokeFunction('convertToInteractive',\n",
              "                                                    [key], {});\n",
              "        if (!dataTable) return;\n",
              "\n",
              "        const docLinkHtml = 'Like what you see? Visit the ' +\n",
              "          '<a target=\"_blank\" href=https://colab.research.google.com/notebooks/data_table.ipynb>data table notebook</a>'\n",
              "          + ' to learn more about interactive tables.';\n",
              "        element.innerHTML = '';\n",
              "        dataTable['output_type'] = 'display_data';\n",
              "        await google.colab.output.renderOutput(dataTable, element);\n",
              "        const docLink = document.createElement('div');\n",
              "        docLink.innerHTML = docLinkHtml;\n",
              "        element.appendChild(docLink);\n",
              "      }\n",
              "    </script>\n",
              "  </div>\n",
              "\n",
              "\n",
              "    <div id=\"df-41844c07-977d-41a0-b08b-d5e53535fae1\">\n",
              "      <button class=\"colab-df-quickchart\" onclick=\"quickchart('df-41844c07-977d-41a0-b08b-d5e53535fae1')\"\n",
              "                title=\"Suggest charts\"\n",
              "                style=\"display:none;\">\n",
              "\n",
              "<svg xmlns=\"http://www.w3.org/2000/svg\" height=\"24px\"viewBox=\"0 0 24 24\"\n",
              "     width=\"24px\">\n",
              "    <g>\n",
              "        <path d=\"M19 3H5c-1.1 0-2 .9-2 2v14c0 1.1.9 2 2 2h14c1.1 0 2-.9 2-2V5c0-1.1-.9-2-2-2zM9 17H7v-7h2v7zm4 0h-2V7h2v10zm4 0h-2v-4h2v4z\"/>\n",
              "    </g>\n",
              "</svg>\n",
              "      </button>\n",
              "\n",
              "<style>\n",
              "  .colab-df-quickchart {\n",
              "      --bg-color: #E8F0FE;\n",
              "      --fill-color: #1967D2;\n",
              "      --hover-bg-color: #E2EBFA;\n",
              "      --hover-fill-color: #174EA6;\n",
              "      --disabled-fill-color: #AAA;\n",
              "      --disabled-bg-color: #DDD;\n",
              "  }\n",
              "\n",
              "  [theme=dark] .colab-df-quickchart {\n",
              "      --bg-color: #3B4455;\n",
              "      --fill-color: #D2E3FC;\n",
              "      --hover-bg-color: #434B5C;\n",
              "      --hover-fill-color: #FFFFFF;\n",
              "      --disabled-bg-color: #3B4455;\n",
              "      --disabled-fill-color: #666;\n",
              "  }\n",
              "\n",
              "  .colab-df-quickchart {\n",
              "    background-color: var(--bg-color);\n",
              "    border: none;\n",
              "    border-radius: 50%;\n",
              "    cursor: pointer;\n",
              "    display: none;\n",
              "    fill: var(--fill-color);\n",
              "    height: 32px;\n",
              "    padding: 0;\n",
              "    width: 32px;\n",
              "  }\n",
              "\n",
              "  .colab-df-quickchart:hover {\n",
              "    background-color: var(--hover-bg-color);\n",
              "    box-shadow: 0 1px 2px rgba(60, 64, 67, 0.3), 0 1px 3px 1px rgba(60, 64, 67, 0.15);\n",
              "    fill: var(--button-hover-fill-color);\n",
              "  }\n",
              "\n",
              "  .colab-df-quickchart-complete:disabled,\n",
              "  .colab-df-quickchart-complete:disabled:hover {\n",
              "    background-color: var(--disabled-bg-color);\n",
              "    fill: var(--disabled-fill-color);\n",
              "    box-shadow: none;\n",
              "  }\n",
              "\n",
              "  .colab-df-spinner {\n",
              "    border: 2px solid var(--fill-color);\n",
              "    border-color: transparent;\n",
              "    border-bottom-color: var(--fill-color);\n",
              "    animation:\n",
              "      spin 1s steps(1) infinite;\n",
              "  }\n",
              "\n",
              "  @keyframes spin {\n",
              "    0% {\n",
              "      border-color: transparent;\n",
              "      border-bottom-color: var(--fill-color);\n",
              "      border-left-color: var(--fill-color);\n",
              "    }\n",
              "    20% {\n",
              "      border-color: transparent;\n",
              "      border-left-color: var(--fill-color);\n",
              "      border-top-color: var(--fill-color);\n",
              "    }\n",
              "    30% {\n",
              "      border-color: transparent;\n",
              "      border-left-color: var(--fill-color);\n",
              "      border-top-color: var(--fill-color);\n",
              "      border-right-color: var(--fill-color);\n",
              "    }\n",
              "    40% {\n",
              "      border-color: transparent;\n",
              "      border-right-color: var(--fill-color);\n",
              "      border-top-color: var(--fill-color);\n",
              "    }\n",
              "    60% {\n",
              "      border-color: transparent;\n",
              "      border-right-color: var(--fill-color);\n",
              "    }\n",
              "    80% {\n",
              "      border-color: transparent;\n",
              "      border-right-color: var(--fill-color);\n",
              "      border-bottom-color: var(--fill-color);\n",
              "    }\n",
              "    90% {\n",
              "      border-color: transparent;\n",
              "      border-bottom-color: var(--fill-color);\n",
              "    }\n",
              "  }\n",
              "</style>\n",
              "\n",
              "      <script>\n",
              "        async function quickchart(key) {\n",
              "          const quickchartButtonEl =\n",
              "            document.querySelector('#' + key + ' button');\n",
              "          quickchartButtonEl.disabled = true;  // To prevent multiple clicks.\n",
              "          quickchartButtonEl.classList.add('colab-df-spinner');\n",
              "          try {\n",
              "            const charts = await google.colab.kernel.invokeFunction(\n",
              "                'suggestCharts', [key], {});\n",
              "          } catch (error) {\n",
              "            console.error('Error during call to suggestCharts:', error);\n",
              "          }\n",
              "          quickchartButtonEl.classList.remove('colab-df-spinner');\n",
              "          quickchartButtonEl.classList.add('colab-df-quickchart-complete');\n",
              "        }\n",
              "        (() => {\n",
              "          let quickchartButtonEl =\n",
              "            document.querySelector('#df-41844c07-977d-41a0-b08b-d5e53535fae1 button');\n",
              "          quickchartButtonEl.style.display =\n",
              "            google.colab.kernel.accessAllowed ? 'block' : 'none';\n",
              "        })();\n",
              "      </script>\n",
              "    </div>\n",
              "    </div>\n",
              "  </div>\n"
            ],
            "application/vnd.google.colaboratory.intrinsic+json": {
              "type": "dataframe",
              "variable_name": "train_data",
              "summary": "{\n  \"name\": \"train_data\",\n  \"rows\": 309,\n  \"fields\": [\n    {\n      \"column\": \"Field name\",\n      \"properties\": {\n        \"dtype\": \"string\",\n        \"num_unique_values\": 285,\n        \"samples\": [\n          \"STRACHAN\",\n          \"NINIAN\",\n          \"GAMYSHLDZHA\"\n        ],\n        \"semantic_type\": \"\",\n        \"description\": \"\"\n      }\n    },\n    {\n      \"column\": \"Reservoir unit\",\n      \"properties\": {\n        \"dtype\": \"string\",\n        \"num_unique_values\": 258,\n        \"samples\": [\n          \"FANGST\",\n          \"SMACKOVER\",\n          \"LEDUC\"\n        ],\n        \"semantic_type\": \"\",\n        \"description\": \"\"\n      }\n    },\n    {\n      \"column\": \"Country\",\n      \"properties\": {\n        \"dtype\": \"category\",\n        \"num_unique_values\": 42,\n        \"samples\": [\n          \"EGYPT\",\n          \"KAZAKHSTAN\",\n          \"UK\"\n        ],\n        \"semantic_type\": \"\",\n        \"description\": \"\"\n      }\n    },\n    {\n      \"column\": \"Region\",\n      \"properties\": {\n        \"dtype\": \"category\",\n        \"num_unique_values\": 7,\n        \"samples\": [\n          \"FORMER SOVIET UNION\",\n          \"LATIN AMERICA\",\n          \"FAR EAST\"\n        ],\n        \"semantic_type\": \"\",\n        \"description\": \"\"\n      }\n    },\n    {\n      \"column\": \"Basin name\",\n      \"properties\": {\n        \"dtype\": \"category\",\n        \"num_unique_values\": 93,\n        \"samples\": [\n          \"EASTERN VENEZUELA\",\n          \"BEAUFORT-MACKENZIE\",\n          \"GABON SOUTH\"\n        ],\n        \"semantic_type\": \"\",\n        \"description\": \"\"\n      }\n    },\n    {\n      \"column\": \"Tectonic regime\",\n      \"properties\": {\n        \"dtype\": \"category\",\n        \"num_unique_values\": 55,\n        \"samples\": [\n          \"COMPRESSION/EROSION/GRAVITY/EVAPORITE/EXTENSION\",\n          \"COMPRESSION/EROSION\",\n          \"COMPRESSION/EROSION/EXTENSION\"\n        ],\n        \"semantic_type\": \"\",\n        \"description\": \"\"\n      }\n    },\n    {\n      \"column\": \"Latitude\",\n      \"properties\": {\n        \"dtype\": \"number\",\n        \"std\": 22.19115982068022,\n        \"min\": -38.3989,\n        \"max\": 76.4462,\n        \"num_unique_values\": 262,\n        \"samples\": [\n          28.2919,\n          -21.2356,\n          32.388000000000005\n        ],\n        \"semantic_type\": \"\",\n        \"description\": \"\"\n      }\n    },\n    {\n      \"column\": \"Longitude\",\n      \"properties\": {\n        \"dtype\": \"number\",\n        \"std\": 86.38721955455611,\n        \"min\": -151.6153,\n        \"max\": 148.417,\n        \"num_unique_values\": 260,\n        \"samples\": [\n          -38.5668,\n          1.5318,\n          0.325\n        ],\n        \"semantic_type\": \"\",\n        \"description\": \"\"\n      }\n    },\n    {\n      \"column\": \"Operator company\",\n      \"properties\": {\n        \"dtype\": \"category\",\n        \"num_unique_values\": 138,\n        \"samples\": [\n          \"TENNECO /CENEX /SHELL\",\n          \"PETROSA\",\n          \"IMPERIAL OIL RESOURCES\"\n        ],\n        \"semantic_type\": \"\",\n        \"description\": \"\"\n      }\n    },\n    {\n      \"column\": \"Onshore/Offshore\",\n      \"properties\": {\n        \"dtype\": \"category\",\n        \"num_unique_values\": 3,\n        \"samples\": [\n          \"ONSHORE\",\n          \"OFFSHORE\",\n          \"ONSHORE-OFFSHORE\"\n        ],\n        \"semantic_type\": \"\",\n        \"description\": \"\"\n      }\n    },\n    {\n      \"column\": \"Hydrocarbon type\",\n      \"properties\": {\n        \"dtype\": \"category\",\n        \"num_unique_values\": 4,\n        \"samples\": [\n          \"GAS\",\n          \"CARBON DIOXIDE\",\n          \"OIL\"\n        ],\n        \"semantic_type\": \"\",\n        \"description\": \"\"\n      }\n    },\n    {\n      \"column\": \"Reservoir status\",\n      \"properties\": {\n        \"dtype\": \"category\",\n        \"num_unique_values\": 13,\n        \"samples\": [\n          \"CONTINUING DEVELOPMENT\",\n          \"SECOND PLATEAU PRODUTION\",\n          \"DECLINING PRODUCTION\"\n        ],\n        \"semantic_type\": \"\",\n        \"description\": \"\"\n      }\n    },\n    {\n      \"column\": \"Structural setting\",\n      \"properties\": {\n        \"dtype\": \"category\",\n        \"num_unique_values\": 43,\n        \"samples\": [\n          \"SUB-SALT\",\n          \"THRUST/PASSIVE MARGIN\",\n          \"INVERSION/FORELAND\"\n        ],\n        \"semantic_type\": \"\",\n        \"description\": \"\"\n      }\n    },\n    {\n      \"column\": \"Depth\",\n      \"properties\": {\n        \"dtype\": \"number\",\n        \"std\": 3628,\n        \"min\": 220,\n        \"max\": 19888,\n        \"num_unique_values\": 279,\n        \"samples\": [\n          3691,\n          8200,\n          8278\n        ],\n        \"semantic_type\": \"\",\n        \"description\": \"\"\n      }\n    },\n    {\n      \"column\": \"Reservoir period\",\n      \"properties\": {\n        \"dtype\": \"category\",\n        \"num_unique_values\": 22,\n        \"samples\": [\n          \"CARBONIFEROUS\",\n          \"PALEOGENE-NEOGENE\",\n          \"TRIASSIC-JURASSIC\"\n        ],\n        \"semantic_type\": \"\",\n        \"description\": \"\"\n      }\n    },\n    {\n      \"column\": \"Lithology\",\n      \"properties\": {\n        \"dtype\": \"category\",\n        \"num_unique_values\": 13,\n        \"samples\": [\n          \"SHALE\",\n          \"CHALK\",\n          \"SANDSTONE\"\n        ],\n        \"semantic_type\": \"\",\n        \"description\": \"\"\n      }\n    },\n    {\n      \"column\": \"Thickness (gross average ft)\",\n      \"properties\": {\n        \"dtype\": \"number\",\n        \"std\": 1353.9344040930994,\n        \"min\": 11.0,\n        \"max\": 8200.0,\n        \"num_unique_values\": 166,\n        \"samples\": [\n          221.0,\n          20.0,\n          265.0\n        ],\n        \"semantic_type\": \"\",\n        \"description\": \"\"\n      }\n    },\n    {\n      \"column\": \"Thickness (net pay average ft)\",\n      \"properties\": {\n        \"dtype\": \"number\",\n        \"std\": 282.2524890298024,\n        \"min\": 2.12,\n        \"max\": 2976.0,\n        \"num_unique_values\": 166,\n        \"samples\": [\n          160.0,\n          425.0,\n          54.0\n        ],\n        \"semantic_type\": \"\",\n        \"description\": \"\"\n      }\n    },\n    {\n      \"column\": \"Porosity\",\n      \"properties\": {\n        \"dtype\": \"number\",\n        \"std\": 7.1710476048261595,\n        \"min\": 1.1,\n        \"max\": 35.0,\n        \"num_unique_values\": 68,\n        \"samples\": [\n          14.5,\n          25.0,\n          11.8\n        ],\n        \"semantic_type\": \"\",\n        \"description\": \"\"\n      }\n    },\n    {\n      \"column\": \"Permeability\",\n      \"properties\": {\n        \"dtype\": \"number\",\n        \"std\": 1000.1406052753165,\n        \"min\": 0.01,\n        \"max\": 7500.0,\n        \"num_unique_values\": 151,\n        \"samples\": [\n          420.0,\n          160.0,\n          600.0\n        ],\n        \"semantic_type\": \"\",\n        \"description\": \"\"\n      }\n    }\n  ]\n}"
            }
          },
          "metadata": {},
          "execution_count": 46
        }
      ]
    },
    {
      "cell_type": "code",
      "source": [
        "print(\"\\nПропуски в тренировочных данных:\")\n",
        "print(train_data.isnull().sum())\n",
        "print(\"\\nПропуски в тестовых данных:\")\n",
        "print(test_data.isnull().sum())"
      ],
      "metadata": {
        "colab": {
          "base_uri": "https://localhost:8080/"
        },
        "id": "b-LxAM_2qDdk",
        "outputId": "9e6d2bb2-0421-4470-8520-70677bba845a"
      },
      "execution_count": null,
      "outputs": [
        {
          "output_type": "stream",
          "name": "stdout",
          "text": [
            "\n",
            "Пропуски в тренировочных данных:\n",
            "Field name                         0\n",
            "Reservoir unit                     0\n",
            "Country                           27\n",
            "Region                            38\n",
            "Basin name                        38\n",
            "Tectonic regime                    0\n",
            "Latitude                          27\n",
            "Longitude                         30\n",
            "Operator company                   0\n",
            "Onshore/Offshore                   0\n",
            "Hydrocarbon type                   0\n",
            "Reservoir status                   0\n",
            "Structural setting                 0\n",
            "Depth                              0\n",
            "Reservoir period                   0\n",
            "Lithology                          0\n",
            "Thickness (gross average ft)       0\n",
            "Thickness (net pay average ft)     0\n",
            "Porosity                           0\n",
            "Permeability                       0\n",
            "dtype: int64\n",
            "\n",
            "Пропуски в тестовых данных:\n",
            "Field name                         0\n",
            "Reservoir unit                     0\n",
            "Country                           13\n",
            "Region                            16\n",
            "Basin name                         8\n",
            "Tectonic regime                    0\n",
            "Latitude                          13\n",
            "Longitude                         16\n",
            "Operator company                   0\n",
            "Hydrocarbon type                   0\n",
            "Reservoir status                   0\n",
            "Structural setting                 0\n",
            "Depth                              0\n",
            "Reservoir period                   0\n",
            "Lithology                          0\n",
            "Thickness (gross average ft)       0\n",
            "Thickness (net pay average ft)     0\n",
            "Porosity                           0\n",
            "Permeability                       0\n",
            "dtype: int64\n"
          ]
        }
      ]
    },
    {
      "cell_type": "code",
      "source": [
        "train_data.isna().sum().sum()"
      ],
      "metadata": {
        "colab": {
          "base_uri": "https://localhost:8080/"
        },
        "id": "OvQoMU_pqTLv",
        "outputId": "190534ac-07e6-4c2f-f01b-9f1a481735b3"
      },
      "execution_count": null,
      "outputs": [
        {
          "output_type": "execute_result",
          "data": {
            "text/plain": [
              "np.int64(160)"
            ]
          },
          "metadata": {},
          "execution_count": 48
        }
      ]
    },
    {
      "cell_type": "code",
      "source": [
        "test_data.isna().sum().sum()"
      ],
      "metadata": {
        "colab": {
          "base_uri": "https://localhost:8080/"
        },
        "id": "Q9rDqpzvv6Km",
        "outputId": "aa5c7b88-88d8-4e0e-a0d6-05f4fac9b4e2"
      },
      "execution_count": null,
      "outputs": [
        {
          "output_type": "execute_result",
          "data": {
            "text/plain": [
              "np.int64(66)"
            ]
          },
          "metadata": {},
          "execution_count": 49
        }
      ]
    },
    {
      "cell_type": "code",
      "source": [
        "plt.figure(figsize=(8, 6))\n",
        "sns.countplot(x='Onshore/Offshore', data=train_data, palette=['#48252F', '#857861', '#744B33'])\n",
        "plt.title('Распределение месторождений по типу', fontsize=16)\n",
        "plt.xlabel('Тип месторождения', fontsize=12)\n",
        "plt.ylabel('Количество', fontsize=12)\n",
        "plt.show()"
      ],
      "metadata": {
        "colab": {
          "base_uri": "https://localhost:8080/",
          "height": 681
        },
        "id": "XCuTc3jOqYYg",
        "outputId": "a87fadcc-f679-4f50-de38-27399ce11c13"
      },
      "execution_count": null,
      "outputs": [
        {
          "output_type": "stream",
          "name": "stderr",
          "text": [
            "<ipython-input-50-2ab7b5a6deac>:2: FutureWarning: \n",
            "\n",
            "Passing `palette` without assigning `hue` is deprecated and will be removed in v0.14.0. Assign the `x` variable to `hue` and set `legend=False` for the same effect.\n",
            "\n",
            "  sns.countplot(x='Onshore/Offshore', data=train_data, palette=['#48252F', '#857861', '#744B33'])\n"
          ]
        },
        {
          "output_type": "display_data",
          "data": {
            "text/plain": [
              "<Figure size 800x600 with 1 Axes>"
            ],
            "image/png": "[encoded data removed]"
          },
          "metadata": {}
        }
      ]
    },
    {
      "cell_type": "code",
      "source": [
        "print(train_data.columns)"
      ],
      "metadata": {
        "colab": {
          "base_uri": "https://localhost:8080/"
        },
        "id": "dlUE_jlXZduh",
        "outputId": "2104a5ef-5a42-4250-d55e-385083f6bfbd"
      },
      "execution_count": null,
      "outputs": [
        {
          "output_type": "stream",
          "name": "stdout",
          "text": [
            "Index(['Field name', 'Reservoir unit', 'Country', 'Region', 'Basin name',\n",
            "       'Tectonic regime', 'Latitude', 'Longitude', 'Operator company',\n",
            "       'Onshore/Offshore', 'Hydrocarbon type', 'Reservoir status',\n",
            "       'Structural setting', 'Depth', 'Reservoir period', 'Lithology',\n",
            "       'Thickness (gross average ft)', 'Thickness (net pay average ft)',\n",
            "       'Porosity', 'Permeability'],\n",
            "      dtype='object')\n"
          ]
        }
      ]
    },
    {
      "cell_type": "code",
      "source": [
        "train_data = train_data.drop(columns=['Tectonic regime', 'Structural setting', 'Field name', 'Reservoir unit', 'Country',\n",
        "                            'Region', 'Basin name', 'Operator company'])\n",
        "test_data = test_data.drop(columns=['Tectonic regime', 'Structural setting', 'Field name', 'Reservoir unit', 'Country',\n",
        "                            'Region', 'Basin name', 'Operator company'])\n",
        "\n",
        "train_data.info()"
      ],
      "metadata": {
        "colab": {
          "base_uri": "https://localhost:8080/"
        },
        "id": "JU3KgMwOqbUH",
        "outputId": "801fd241-3c03-4b32-9287-ba3c92973617"
      },
      "execution_count": null,
      "outputs": [
        {
          "output_type": "stream",
          "name": "stdout",
          "text": [
            "<class 'pandas.core.frame.DataFrame'>\n",
            "RangeIndex: 309 entries, 0 to 308\n",
            "Data columns (total 12 columns):\n",
            " #   Column                          Non-Null Count  Dtype  \n",
            "---  ------                          --------------  -----  \n",
            " 0   Latitude                        282 non-null    float64\n",
            " 1   Longitude                       279 non-null    float64\n",
            " 2   Onshore/Offshore                309 non-null    object \n",
            " 3   Hydrocarbon type                309 non-null    object \n",
            " 4   Reservoir status                309 non-null    object \n",
            " 5   Depth                           309 non-null    int64  \n",
            " 6   Reservoir period                309 non-null    object \n",
            " 7   Lithology                       309 non-null    object \n",
            " 8   Thickness (gross average ft)    309 non-null    float64\n",
            " 9   Thickness (net pay average ft)  309 non-null    float64\n",
            " 10  Porosity                        309 non-null    float64\n",
            " 11  Permeability                    309 non-null    float64\n",
            "dtypes: float64(6), int64(1), object(5)\n",
            "memory usage: 29.1+ KB\n"
          ]
        }
      ]
    },
    {
      "cell_type": "code",
      "source": [
        "# Выбираем числовые признаки\n",
        "numeric_features = ['Depth', 'Thickness (gross average ft)', 'Thickness (net pay average ft)',\n",
        "                   'Porosity', 'Permeability']\n",
        "\n",
        "#Обрабатываем обучающий набор\n",
        "# Создаем целевой признак (0 - onshore, 1 - offshore) для обучающего набора\n",
        "if 'Onshore/Offshore' in train_data.columns:\n",
        "    train_data['Target'] = train_data['Onshore/Offshore'].apply(lambda x: 0 if x == 'ONSHORE' else 1)\n",
        "else:\n",
        "    # Для тестовых данных без целевой переменной\n",
        "    train_data['Target'] = -1\n",
        "\n",
        "# Заполняем пропуски средними значениями\n",
        "train_data[numeric_features] = train_data[numeric_features].fillna(train_data[numeric_features].mean())\n",
        "\n",
        "# Получаем выборку для числовых признаков и целевого признака для обучающего набора\n",
        "X_train = train_data[numeric_features]\n",
        "y_train = train_data['Target']\n",
        "\n",
        "\n",
        "#Обрабатываем тестовый набор данных\n",
        "# Создаем целевой признак (0 - onshore, 1 - offshore)\n",
        "if 'Onshore/Offshore' in test_data.columns:\n",
        "    test_data['Target'] = test_data['Onshore/Offshore'].apply(lambda x: 0 if x == 'ONSHORE' else 1)\n",
        "else:\n",
        "    # Для тестовых данных без целевой переменной\n",
        "    test_data['Target'] = -1\n",
        "\n",
        "# Заполняем пропуски средними значениями для тестового набора данных\n",
        "test_data[numeric_features] = test_data[numeric_features].fillna(test_data[numeric_features].mean())\n",
        "\n",
        "# Получаем выборку для числовых признаков и целевого признака для тестового набора\n",
        "X_test = test_data[numeric_features]\n",
        "y_test = test_data['Target']"
      ],
      "metadata": {
        "id": "qW7ApNwHqiTn"
      },
      "execution_count": null,
      "outputs": []
    },
    {
      "cell_type": "code",
      "source": [
        "# масштабирование числовых признаков\n",
        "scaler = StandardScaler()\n",
        "train_data[numeric_features] = scaler.fit_transform(train_data[numeric_features])\n",
        "test_data[numeric_features] = scaler.transform(test_data[numeric_features])"
      ],
      "metadata": {
        "id": "NtMaJqOTjZxC"
      },
      "execution_count": null,
      "outputs": []
    },
    {
      "cell_type": "code",
      "source": [
        "numeric_features = ['Depth', 'Thickness (gross average ft)',\n",
        "                   'Thickness (net pay average ft)', 'Porosity', 'Permeability']\n",
        "\n",
        "plt.figure(figsize=(10, 8))\n",
        "custom_colors = ['#3F3130', '#705854', '#633D3C', '#A4645C', '#563738', '#97594C']\n",
        "corr_matrix = train_data[numeric_features].corr()\n",
        "sns.heatmap(corr_matrix, annot=True, cmap=sns.color_palette(custom_colors, as_cmap=True), center=0)\n",
        "plt.title('Матрица корреляции числовых признаков', fontsize=16)\n",
        "plt.show()"
      ],
      "metadata": {
        "colab": {
          "base_uri": "https://localhost:8080/",
          "height": 853
        },
        "id": "Vdp4alWaqmDg",
        "outputId": "23d7f28e-68aa-4a4a-b637-b5ddfd03862b"
      },
      "execution_count": null,
      "outputs": [
        {
          "output_type": "display_data",
          "data": {
            "text/plain": [
              "<Figure size 1000x800 with 2 Axes>"
            ],
            "image/png": "[encoded data removed]"
          },
          "metadata": {}
        }
      ]
    },
    {
      "cell_type": "code",
      "source": [
        "X_train, X_val, y_train, y_val = train_test_split(X_train, y_train, test_size=0.2, random_state=42)"
      ],
      "metadata": {
        "id": "MGcxpcHOqroB"
      },
      "execution_count": null,
      "outputs": []
    },
    {
      "cell_type": "code",
      "source": [
        "#еще раз масштабируем, но уже разделенные данные\n",
        "scaler = StandardScaler()\n",
        "X_train = scaler.fit_transform(X_train)\n",
        "X_val = scaler.transform(X_val)\n",
        "X_test = scaler.transform(X_test)"
      ],
      "metadata": {
        "id": "sFaRWg16qt9B"
      },
      "execution_count": null,
      "outputs": []
    },
    {
      "cell_type": "code",
      "source": [
        "#Басансировка методом ADAXYN\n",
        "adasyn = ADASYN(random_state=42)\n",
        "X_train_adasyn, y_train_adasyn = adasyn.fit_resample(X_train, y_train)"
      ],
      "metadata": {
        "id": "xbXyTN3iqxKR"
      },
      "execution_count": null,
      "outputs": []
    },
    {
      "cell_type": "code",
      "source": [
        "train_data_plot = train_data.copy()\n",
        "train_data_plot[numeric_features] = scaler.fit_transform(train_data_plot[numeric_features])\n",
        "\n",
        "plt.figure(figsize=(15, 10))\n",
        "for i, feature in enumerate(numeric_features, 1):\n",
        "    plt.subplot(2, 3, i)\n",
        "    sns.boxplot(x='Onshore/Offshore', y=feature, data=train_data_plot, palette=['#48252F', '#857861', '#744B33'])\n",
        "    plt.title(f'Распределение {feature} по типам')\n",
        "    plt.xlabel('Тип месторождения')\n",
        "plt.tight_layout()\n",
        "plt.show()"
      ],
      "metadata": {
        "colab": {
          "base_uri": "https://localhost:8080/",
          "height": 1000
        },
        "id": "KsJ7zD5Pq0Mi",
        "outputId": "0b48c86b-d749-4707-d769-b4a7e918152c"
      },
      "execution_count": null,
      "outputs": [
        {
          "output_type": "stream",
          "name": "stderr",
          "text": [
            "<ipython-input-59-258ced9e9fea>:7: FutureWarning: \n",
            "\n",
            "Passing `palette` without assigning `hue` is deprecated and will be removed in v0.14.0. Assign the `x` variable to `hue` and set `legend=False` for the same effect.\n",
            "\n",
            "  sns.boxplot(x='Onshore/Offshore', y=feature, data=train_data_plot, palette=['#48252F', '#857861', '#744B33'])\n",
            "<ipython-input-59-258ced9e9fea>:7: FutureWarning: \n",
            "\n",
            "Passing `palette` without assigning `hue` is deprecated and will be removed in v0.14.0. Assign the `x` variable to `hue` and set `legend=False` for the same effect.\n",
            "\n",
            "  sns.boxplot(x='Onshore/Offshore', y=feature, data=train_data_plot, palette=['#48252F', '#857861', '#744B33'])\n",
            "<ipython-input-59-258ced9e9fea>:7: FutureWarning: \n",
            "\n",
            "Passing `palette` without assigning `hue` is deprecated and will be removed in v0.14.0. Assign the `x` variable to `hue` and set `legend=False` for the same effect.\n",
            "\n",
            "  sns.boxplot(x='Onshore/Offshore', y=feature, data=train_data_plot, palette=['#48252F', '#857861', '#744B33'])\n",
            "<ipython-input-59-258ced9e9fea>:7: FutureWarning: \n",
            "\n",
            "Passing `palette` without assigning `hue` is deprecated and will be removed in v0.14.0. Assign the `x` variable to `hue` and set `legend=False` for the same effect.\n",
            "\n",
            "  sns.boxplot(x='Onshore/Offshore', y=feature, data=train_data_plot, palette=['#48252F', '#857861', '#744B33'])\n",
            "<ipython-input-59-258ced9e9fea>:7: FutureWarning: \n",
            "\n",
            "Passing `palette` without assigning `hue` is deprecated and will be removed in v0.14.0. Assign the `x` variable to `hue` and set `legend=False` for the same effect.\n",
            "\n",
            "  sns.boxplot(x='Onshore/Offshore', y=feature, data=train_data_plot, palette=['#48252F', '#857861', '#744B33'])\n"
          ]
        },
        {
          "output_type": "display_data",
          "data": {
            "text/plain": [
              "<Figure size 1500x1000 with 5 Axes>"
            ],
            "image/png": "[encoded data removed]"
          },
          "metadata": {}
        }
      ]
    },
    {
      "cell_type": "code",
      "source": [
        "#Logistic Regression (логистическая регрессия)\n",
        "print(\"\\n\" + \"=\"*50)\n",
        "print(\"Logistic Regression\")\n",
        "print(\"=\"*50)\n",
        "lr = LogisticRegression(max_iter=1000, random_state=42)\n",
        "lr.fit(X_train_adasyn, y_train_adasyn)\n",
        "y_pred = lr.predict(X_val)\n",
        "\n",
        "print(\"\\nLogistic Regression Performance:\")\n",
        "print(\"Accuracy:\", accuracy_score(y_val, y_pred))\n",
        "print(\"\\nClassification Report:\")\n",
        "print(classification_report(y_val, y_pred))\n",
        "\n",
        "report = classification_report(y_val, y_pred, output_dict=True)\n",
        "f1_class0 = report['0']['f1-score']  # F1 для класса 0\n",
        "f1_class1 = report['1']['f1-score']  # F1 для класса 1\n",
        "macro_f1 = report['macro avg']['f1-score']\n",
        "macro_f1"
      ],
      "metadata": {
        "colab": {
          "base_uri": "https://localhost:8080/"
        },
        "id": "M_nN3lXOq4oC",
        "outputId": "9b22e7c6-040e-4cfe-c879-77326ee5c1e7"
      },
      "execution_count": null,
      "outputs": [
        {
          "output_type": "stream",
          "name": "stdout",
          "text": [
            "\n",
            "==================================================\n",
            "Logistic Regression\n",
            "==================================================\n",
            "\n",
            "Logistic Regression Performance:\n",
            "Accuracy: 0.5645161290322581\n",
            "\n",
            "Classification Report:\n",
            "              precision    recall  f1-score   support\n",
            "\n",
            "           0       0.81      0.49      0.61        43\n",
            "           1       0.39      0.74      0.51        19\n",
            "\n",
            "    accuracy                           0.56        62\n",
            "   macro avg       0.60      0.61      0.56        62\n",
            "weighted avg       0.68      0.56      0.58        62\n",
            "\n"
          ]
        },
        {
          "output_type": "execute_result",
          "data": {
            "text/plain": [
              "0.5588932806324111"
            ]
          },
          "metadata": {},
          "execution_count": 60
        }
      ]
    },
    {
      "cell_type": "code",
      "source": [
        "#Random Forest (Случайный лес, создание множества деревьев решений и объединение их результатов для получения более точного прогноза)\n",
        "print(\"\\n\" + \"=\"*50)\n",
        "print(\"Random Forest\")\n",
        "print(\"=\"*50)\n",
        "rf = RandomForestClassifier(n_estimators=100, random_state=42)\n",
        "rf.fit(X_train_adasyn, y_train_adasyn)\n",
        "y_pred = rf.predict(X_val)\n",
        "\n",
        "print(\"\\nRandom Forest Performance:\")\n",
        "print(\"Accuracy:\", accuracy_score(y_val, y_pred))\n",
        "print(\"\\nClassification Report:\")\n",
        "print(classification_report(y_val, y_pred))\n",
        "\n",
        "report = classification_report(y_val, y_pred, output_dict=True)\n",
        "f1_class0 = report['0']['f1-score']  # F1 для класса 0\n",
        "f1_class1 = report['1']['f1-score']  # F1 для класса 1\n",
        "macro_f1 = report['macro avg']['f1-score']\n",
        "macro_f1"
      ],
      "metadata": {
        "colab": {
          "base_uri": "https://localhost:8080/"
        },
        "id": "ebPRTUY6rEfL",
        "outputId": "21b46b70-c935-47fc-a2e3-7e3fc14f7a72"
      },
      "execution_count": null,
      "outputs": [
        {
          "output_type": "stream",
          "name": "stdout",
          "text": [
            "\n",
            "==================================================\n",
            "Random Forest\n",
            "==================================================\n",
            "\n",
            "Random Forest Performance:\n",
            "Accuracy: 0.7419354838709677\n",
            "\n",
            "Classification Report:\n",
            "              precision    recall  f1-score   support\n",
            "\n",
            "           0       0.89      0.72      0.79        43\n",
            "           1       0.56      0.79      0.65        19\n",
            "\n",
            "    accuracy                           0.74        62\n",
            "   macro avg       0.72      0.76      0.72        62\n",
            "weighted avg       0.78      0.74      0.75        62\n",
            "\n"
          ]
        },
        {
          "output_type": "execute_result",
          "data": {
            "text/plain": [
              "0.7235228539576366"
            ]
          },
          "metadata": {},
          "execution_count": 61
        }
      ]
    },
    {
      "cell_type": "code",
      "source": [
        "#Gradient Boosting (объединение в одну модель множество посредственных)\n",
        "print(\"\\n\" + \"=\"*50)\n",
        "print(\"Gradient Boosting\")\n",
        "print(\"=\"*50)\n",
        "gb = GradientBoostingClassifier(n_estimators=100, random_state=42)\n",
        "gb.fit(X_train_adasyn, y_train_adasyn)\n",
        "y_pred = gb.predict(X_val)\n",
        "\n",
        "print(\"\\nGradient Boosting Performance:\")\n",
        "print(\"Accuracy:\", accuracy_score(y_val, y_pred))\n",
        "print(\"\\nClassification Report:\")\n",
        "print(classification_report(y_val, y_pred))\n",
        "\n",
        "report = classification_report(y_val, y_pred, output_dict=True)\n",
        "f1_class0 = report['0']['f1-score']  # F1 для класса 0\n",
        "f1_class1 = report['1']['f1-score']  # F1 для класса 1\n",
        "macro_f1 = report['macro avg']['f1-score']\n",
        "macro_f1"
      ],
      "metadata": {
        "colab": {
          "base_uri": "https://localhost:8080/"
        },
        "id": "97cX4KQNrJML",
        "outputId": "cb90a2d3-c9c8-4a35-f1f7-ed05d1e9116a"
      },
      "execution_count": null,
      "outputs": [
        {
          "output_type": "stream",
          "name": "stdout",
          "text": [
            "\n",
            "==================================================\n",
            "Gradient Boosting\n",
            "==================================================\n",
            "\n",
            "Gradient Boosting Performance:\n",
            "Accuracy: 0.7741935483870968\n",
            "\n",
            "Classification Report:\n",
            "              precision    recall  f1-score   support\n",
            "\n",
            "           0       0.87      0.79      0.83        43\n",
            "           1       0.61      0.74      0.67        19\n",
            "\n",
            "    accuracy                           0.77        62\n",
            "   macro avg       0.74      0.76      0.75        62\n",
            "weighted avg       0.79      0.77      0.78        62\n",
            "\n"
          ]
        },
        {
          "output_type": "execute_result",
          "data": {
            "text/plain": [
              "0.7479674796747967"
            ]
          },
          "metadata": {},
          "execution_count": 62
        }
      ]
    },
    {
      "cell_type": "code",
      "source": [
        "#SVM (Метод опорных векторов, перевод исходных векторов в пространство более высокой размерности и поиск разделяющей гиперплоскости с наибольшим зазором в этом пространстве)\n",
        "print(\"\\n\" + \"=\"*50)\n",
        "print(\"SVM\")\n",
        "print(\"=\"*50)\n",
        "svm = SVC(kernel='rbf', probability=True, random_state=42)\n",
        "svm.fit(X_train_adasyn, y_train_adasyn)\n",
        "y_pred = svm.predict(X_val)\n",
        "\n",
        "print(\"\\nSupport Vector Machine Performance:\")\n",
        "print(\"Accuracy:\", accuracy_score(y_val, y_pred))\n",
        "print(\"\\nClassification Report:\")\n",
        "print(classification_report(y_val, y_pred))\n",
        "\n",
        "report = classification_report(y_val, y_pred, output_dict=True)\n",
        "f1_class0 = report['0']['f1-score']  # F1 для класса 0\n",
        "f1_class1 = report['1']['f1-score']  # F1 для класса 1\n",
        "macro_f1 = report['macro avg']['f1-score']\n",
        "macro_f1"
      ],
      "metadata": {
        "colab": {
          "base_uri": "https://localhost:8080/"
        },
        "id": "NrtQ3lpNrMns",
        "outputId": "1bb66c3d-9d51-40cc-c944-f49ee5f14335"
      },
      "execution_count": null,
      "outputs": [
        {
          "output_type": "stream",
          "name": "stdout",
          "text": [
            "\n",
            "==================================================\n",
            "SVM\n",
            "==================================================\n",
            "\n",
            "Support Vector Machine Performance:\n",
            "Accuracy: 0.6935483870967742\n",
            "\n",
            "Classification Report:\n",
            "              precision    recall  f1-score   support\n",
            "\n",
            "           0       0.88      0.65      0.75        43\n",
            "           1       0.50      0.79      0.61        19\n",
            "\n",
            "    accuracy                           0.69        62\n",
            "   macro avg       0.69      0.72      0.68        62\n",
            "weighted avg       0.76      0.69      0.71        62\n",
            "\n"
          ]
        },
        {
          "output_type": "execute_result",
          "data": {
            "text/plain": [
              "0.6794557823129252"
            ]
          },
          "metadata": {},
          "execution_count": 63
        }
      ]
    },
    {
      "cell_type": "code",
      "source": [
        "#Метод ближайших соседей\n",
        "knn = KNeighborsClassifier(n_neighbors=5)\n",
        "\n",
        "# Подбор оптимального k\n",
        "param_grid = {'n_neighbors': range(1, 21)}  # Проверяем k от 1 до 20\n",
        "grid_search = GridSearchCV(knn, param_grid, cv=5, scoring='accuracy')\n",
        "grid_search.fit(X_train, y_train)\n",
        "\n",
        "# Лучший параметр\n",
        "best_k = grid_search.best_params_['n_neighbors']\n",
        "print(f\"Оптимальное число соседей (k): {best_k}\")\n",
        "\n",
        "# Обучение модели с лучшим k\n",
        "best_knn = KNeighborsClassifier(n_neighbors=best_k)\n",
        "best_knn.fit(X_train, y_train)\n",
        "\n",
        "# Предсказание и оценка\n",
        "y_val_pred = best_knn.predict(X_val)\n",
        "print(\"\\nKNN Performance (Validation Set):\")\n",
        "print(\"Accuracy:\", accuracy_score(y_val, y_val_pred))\n",
        "print(\"\\nClassification Report:\")\n",
        "print(classification_report(y_val, y_val_pred))"
      ],
      "metadata": {
        "colab": {
          "base_uri": "https://localhost:8080/"
        },
        "id": "SKm37TMGKS7n",
        "outputId": "1a4bf48c-26ed-407c-ccf9-73e643fc1cb5"
      },
      "execution_count": null,
      "outputs": [
        {
          "output_type": "stream",
          "name": "stdout",
          "text": [
            "Оптимальное число соседей (k): 9\n",
            "\n",
            "KNN Performance (Validation Set):\n",
            "Accuracy: 0.7419354838709677\n",
            "\n",
            "Classification Report:\n",
            "              precision    recall  f1-score   support\n",
            "\n",
            "           0       0.78      0.88      0.83        43\n",
            "           1       0.62      0.42      0.50        19\n",
            "\n",
            "    accuracy                           0.74        62\n",
            "   macro avg       0.70      0.65      0.66        62\n",
            "weighted avg       0.73      0.74      0.73        62\n",
            "\n"
          ]
        }
      ]
    },
    {
      "cell_type": "markdown",
      "source": [
        "Анализ моделей по F1-score:\n",
        "\n",
        "худшая модель: Логистическая регрессия (0,56)\n",
        "среднее значение: Метод опорных векторов(0,69)\n",
        "модели с высокими значениями: Случайный лес(0,74) и Метод ближайших соседей(0,74)\n",
        "наилучшая модель: Градиентный бустинг(0,77)\n",
        "Дальнейшие действия буду проводить сначала на Random Forest, Gradient Boosting и Knn."
      ],
      "metadata": {
        "id": "reIS--jsrY2V"
      }
    },
    {
      "cell_type": "code",
      "source": [
        "model = RandomForestClassifier(n_estimators=100, random_state=42)\n",
        "model.fit(X_train_adasyn, y_train_adasyn)\n",
        "\n",
        "# Прогнозирование на тестовых данных\n",
        "predictions = model.predict(X_test)\n",
        "\n",
        "# Создание DataFrame с результатами в требуемом формате\n",
        "results = pd.DataFrame({\n",
        "    'index': test_data.index,\n",
        "    'Onshore/Offshore': predictions\n",
        "})\n",
        "\n",
        "# Сохранение результатов в CSV-файл\n",
        "results.to_csv('f_2_predictions.csv', index=False)\n",
        "print(results.head())"
      ],
      "metadata": {
        "colab": {
          "base_uri": "https://localhost:8080/"
        },
        "id": "2LhLtlJkrVuM",
        "outputId": "8bdafbf0-dfe4-49b0-de78-949fc71837cb"
      },
      "execution_count": null,
      "outputs": [
        {
          "output_type": "stream",
          "name": "stdout",
          "text": [
            "   index  Onshore/Offshore\n",
            "0      0                 0\n",
            "1      1                 1\n",
            "2      2                 0\n",
            "3      3                 1\n",
            "4      4                 0\n"
          ]
        }
      ]
    },
    {
      "cell_type": "code",
      "source": [
        "gb_model = GradientBoostingClassifier(\n",
        "    n_estimators=150,\n",
        "    learning_rate=0.1,\n",
        "    max_depth=3,\n",
        "    random_state=42\n",
        ")\n",
        "gb_model.fit(X_train_adasyn, y_train_adasyn)\n",
        "\n",
        "# Прогнозирование на тестовых данных\n",
        "predictions = gb_model.predict(X_test)\n",
        "\n",
        "# Создание DataFrame с результатами в требуемом формате\n",
        "results = pd.DataFrame({\n",
        "    'index': test_data.index,\n",
        "    'Onshore/Offshore': predictions\n",
        "})\n",
        "\n",
        "# Сохранение результатов в CSV-файл\n",
        "results.to_csv('gb_2_predictions.csv', index=False)\n",
        "print(\"\\nПервые 5 строк файла с предсказаниями:\")\n",
        "print(results.head())"
      ],
      "metadata": {
        "colab": {
          "base_uri": "https://localhost:8080/"
        },
        "id": "F6LOSFE0rhQ_",
        "outputId": "eaad6812-95c8-4087-ecb8-7755b118b32e"
      },
      "execution_count": null,
      "outputs": [
        {
          "output_type": "stream",
          "name": "stdout",
          "text": [
            "\n",
            "Первые 5 строк файла с предсказаниями:\n",
            "   index  Onshore/Offshore\n",
            "0      0                 0\n",
            "1      1                 1\n",
            "2      2                 0\n",
            "3      3                 1\n",
            "4      4                 0\n"
          ]
        }
      ]
    },
    {
      "cell_type": "code",
      "source": [
        "knn_model = KNeighborsClassifier(\n",
        "    n_neighbors=9,\n",
        "    metric='euclidean',\n",
        "    weights='uniform'\n",
        ")\n",
        "knn_model.fit(X_train, y_train)\n",
        "\n",
        "# Прогнозирование на тестовых данных\n",
        "predictions = knn_model.predict(X_test)\n",
        "\n",
        "# Создание DataFrame с результатами\n",
        "results = pd.DataFrame({\n",
        "    'index': test_data.index,\n",
        "    'Onshore/Offshore': predictions\n",
        "})\n",
        "\n",
        "# Сохранение в CSV\n",
        "results.to_csv('knn_predictions.csv', index=False)\n",
        "print(\"\\nРезультаты предсказаний KNN (первые 5 строк):\")\n",
        "print(results.head())"
      ],
      "metadata": {
        "colab": {
          "base_uri": "https://localhost:8080/"
        },
        "id": "jFZ5cQmPOsqj",
        "outputId": "ee7e0183-5780-48cc-805d-538ebd3e1f3c"
      },
      "execution_count": null,
      "outputs": [
        {
          "output_type": "stream",
          "name": "stdout",
          "text": [
            "\n",
            "Результаты предсказаний KNN (первые 5 строк):\n",
            "   index  Onshore/Offshore\n",
            "0      0                 0\n",
            "1      1                 1\n",
            "2      2                 0\n",
            "3      3                 1\n",
            "4      4                 0\n"
          ]
        }
      ]
    }
  ]
}