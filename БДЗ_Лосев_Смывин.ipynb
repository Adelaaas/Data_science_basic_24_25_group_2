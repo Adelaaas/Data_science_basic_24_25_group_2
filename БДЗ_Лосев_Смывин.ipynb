{
  "nbformat": 4,
  "nbformat_minor": 0,
  "metadata": {
    "colab": {
      "provenance": []
    },
    "kernelspec": {
      "name": "python3",
      "display_name": "Python 3"
    },
    "language_info": {
      "name": "python"
    }
  },
  "cells": [
    {
      "cell_type": "markdown",
      "source": [
        "4 вариант: <br>\n",
        "MSE: лин рег 60.2<br>\n",
        "Пропуски в рейтинге нулями <br>\n",
        "Из опыта вытащить число <br>\n",
        "Предмет, курсы, категории статус среднее по категории <br>\n",
        "2 и 3 образование, степень и звание в бинарный признак. <br>\n",
        "Первое образвоние нормализуем, отсекаем 20 популярных, присваиваем среднее по категории <br>\n",
        "Векторизуем описание, описание опыта работы, описание образования"
      ],
      "metadata": {
        "id": "YhRtELtNlhc_"
      }
    },
    {
      "cell_type": "code",
      "execution_count": null,
      "metadata": {
        "colab": {
          "base_uri": "https://localhost:8080/"
        },
        "id": "JDgcfX3QlfBU",
        "outputId": "d11f3952-e171-4d6e-8943-5a1630d535d0"
      },
      "outputs": [
        {
          "output_type": "stream",
          "name": "stdout",
          "text": [
            "Collecting opendatasets\n",
            "  Downloading opendatasets-0.1.22-py3-none-any.whl.metadata (9.2 kB)\n",
            "Requirement already satisfied: tqdm in /usr/local/lib/python3.11/dist-packages (from opendatasets) (4.67.1)\n",
            "Requirement already satisfied: kaggle in /usr/local/lib/python3.11/dist-packages (from opendatasets) (1.7.4.5)\n",
            "Requirement already satisfied: click in /usr/local/lib/python3.11/dist-packages (from opendatasets) (8.2.0)\n",
            "Requirement already satisfied: bleach in /usr/local/lib/python3.11/dist-packages (from kaggle->opendatasets) (6.2.0)\n",
            "Requirement already satisfied: certifi>=14.05.14 in /usr/local/lib/python3.11/dist-packages (from kaggle->opendatasets) (2025.4.26)\n",
            "Requirement already satisfied: charset-normalizer in /usr/local/lib/python3.11/dist-packages (from kaggle->opendatasets) (3.4.2)\n",
            "Requirement already satisfied: idna in /usr/local/lib/python3.11/dist-packages (from kaggle->opendatasets) (3.10)\n",
            "Requirement already satisfied: protobuf in /usr/local/lib/python3.11/dist-packages (from kaggle->opendatasets) (5.29.4)\n",
            "Requirement already satisfied: python-dateutil>=2.5.3 in /usr/local/lib/python3.11/dist-packages (from kaggle->opendatasets) (2.9.0.post0)\n",
            "Requirement already satisfied: python-slugify in /usr/local/lib/python3.11/dist-packages (from kaggle->opendatasets) (8.0.4)\n",
            "Requirement already satisfied: requests in /usr/local/lib/python3.11/dist-packages (from kaggle->opendatasets) (2.32.3)\n",
            "Requirement already satisfied: setuptools>=21.0.0 in /usr/local/lib/python3.11/dist-packages (from kaggle->opendatasets) (75.2.0)\n",
            "Requirement already satisfied: six>=1.10 in /usr/local/lib/python3.11/dist-packages (from kaggle->opendatasets) (1.17.0)\n",
            "Requirement already satisfied: text-unidecode in /usr/local/lib/python3.11/dist-packages (from kaggle->opendatasets) (1.3)\n",
            "Requirement already satisfied: urllib3>=1.15.1 in /usr/local/lib/python3.11/dist-packages (from kaggle->opendatasets) (2.4.0)\n",
            "Requirement already satisfied: webencodings in /usr/local/lib/python3.11/dist-packages (from kaggle->opendatasets) (0.5.1)\n",
            "Downloading opendatasets-0.1.22-py3-none-any.whl (15 kB)\n",
            "Installing collected packages: opendatasets\n",
            "Successfully installed opendatasets-0.1.22\n"
          ]
        }
      ],
      "source": [
        "!pip install opendatasets"
      ]
    },
    {
      "cell_type": "markdown",
      "source": [
        "**Импорт библиотек и загрузка датасета**"
      ],
      "metadata": {
        "id": "_c06bAJsy6Va"
      }
    },
    {
      "cell_type": "code",
      "source": [
        "import numpy as np\n",
        "import pandas as pd\n",
        "import matplotlib.pyplot as plt\n",
        "import seaborn as sns\n",
        "import opendatasets as od\n",
        "from sklearn.linear_model import LinearRegression\n",
        "from sklearn.metrics import mean_absolute_error, mean_squared_error, r2_score\n",
        "from sklearn.model_selection import train_test_split\n",
        "from sklearn.preprocessing import MultiLabelBinarizer, OneHotEncoder, LabelEncoder, MinMaxScaler, StandardScaler\n",
        "from sklearn.neighbors import KNeighborsRegressor\n",
        "from sklearn.feature_extraction.text import TfidfVectorizer\n",
        "import ast\n",
        "import re\n",
        "pd.set_option('display.max_columns', None)"
      ],
      "metadata": {
        "id": "rsr2sjzIl8GP"
      },
      "execution_count": null,
      "outputs": []
    },
    {
      "cell_type": "code",
      "source": [
        "od.download('https://www.kaggle.com/competitions/tutors-lessons-prices-prediction/data')"
      ],
      "metadata": {
        "colab": {
          "base_uri": "https://localhost:8080/"
        },
        "id": "CXPMN_TWl9UO",
        "outputId": "2d596031-8a8c-42f8-d760-89d7fca759aa"
      },
      "execution_count": null,
      "outputs": [
        {
          "output_type": "stream",
          "name": "stdout",
          "text": [
            "Please provide your Kaggle credentials to download this dataset. Learn more: http://bit.ly/kaggle-creds\n",
            "Your Kaggle username: daniillosev\n",
            "Your Kaggle Key: ··········\n",
            "Downloading tutors-lessons-prices-prediction.zip to ./tutors-lessons-prices-prediction\n"
          ]
        },
        {
          "output_type": "stream",
          "name": "stderr",
          "text": [
            "100%|██████████| 2.56M/2.56M [00:00<00:00, 610MB/s]"
          ]
        },
        {
          "output_type": "stream",
          "name": "stdout",
          "text": [
            "\n",
            "Extracting archive ./tutors-lessons-prices-prediction/tutors-lessons-prices-prediction.zip to ./tutors-lessons-prices-prediction\n"
          ]
        },
        {
          "output_type": "stream",
          "name": "stderr",
          "text": [
            "\n"
          ]
        }
      ]
    },
    {
      "cell_type": "code",
      "source": [
        "train = pd.read_excel('/content/tutors-lessons-prices-prediction/train.xlsx')\n",
        "test = pd.read_excel('/content/tutors-lessons-prices-prediction/test.xlsx')"
      ],
      "metadata": {
        "id": "APCQu035l-4k"
      },
      "execution_count": null,
      "outputs": []
    },
    {
      "cell_type": "markdown",
      "source": [
        "**Анализ данных**"
      ],
      "metadata": {
        "id": "c_zCIAwRzESy"
      }
    },
    {
      "cell_type": "code",
      "source": [
        "train.info()"
      ],
      "metadata": {
        "colab": {
          "base_uri": "https://localhost:8080/"
        },
        "id": "1BXEmJUqmH2S",
        "outputId": "e17b96f9-756f-4a47-cf5e-a71cfafb4a69"
      },
      "execution_count": null,
      "outputs": [
        {
          "output_type": "stream",
          "name": "stdout",
          "text": [
            "<class 'pandas.core.frame.DataFrame'>\n",
            "RangeIndex: 4548 entries, 0 to 4547\n",
            "Data columns (total 28 columns):\n",
            " #   Column            Non-Null Count  Dtype  \n",
            "---  ------            --------------  -----  \n",
            " 0   Unnamed: 0        4548 non-null   int64  \n",
            " 1   предмет           4548 non-null   object \n",
            " 2   ФИО               4548 non-null   object \n",
            " 3   tutor_head_tags   4548 non-null   object \n",
            " 4   tutor_rating      3959 non-null   float64\n",
            " 5   tutor_reviews     4548 non-null   int64  \n",
            " 6   description       4547 non-null   object \n",
            " 7   experience_desc   2171 non-null   object \n",
            " 8   Education_1       4548 non-null   object \n",
            " 9   Desc_Education_1  4472 non-null   object \n",
            " 10  Education_2       781 non-null    object \n",
            " 11  Desc_Education_2  777 non-null    object \n",
            " 12  Education_3       106 non-null    object \n",
            " 13  Desc_Education_3  105 non-null    object \n",
            " 14  Education_4       16 non-null     object \n",
            " 15  Desc_Education_4  16 non-null     object \n",
            " 16  Ученая степень 1  76 non-null     object \n",
            " 17  Ученое звание 1   35 non-null     object \n",
            " 18  status            4535 non-null   object \n",
            " 19  experience        4523 non-null   object \n",
            " 20  Desc_Education_5  3 non-null      object \n",
            " 21  Desc_Education_6  1 non-null      object \n",
            " 22  Education_5       3 non-null      object \n",
            " 23  Education_6       1 non-null      object \n",
            " 24  Ученая степень 2  1 non-null      object \n",
            " 25  Ученое звание 2   1 non-null      object \n",
            " 26  categories        4548 non-null   object \n",
            " 27  mean_price        4548 non-null   float64\n",
            "dtypes: float64(2), int64(2), object(24)\n",
            "memory usage: 995.0+ KB\n"
          ]
        }
      ]
    },
    {
      "cell_type": "code",
      "source": [
        "drop_col = ['Unnamed: 0', 'ФИО', 'Desc_Education_2', 'Desc_Education_3',\n",
        "            'Desc_Education_4', 'Desc_Education_5', 'Desc_Education_6',\n",
        "            'Education_4', 'Education_5', 'Education_6', 'Ученая степень 2', 'Ученое звание 2']\n",
        "train.drop(columns=drop_col, axis=1, inplace=True)\n",
        "test.drop(columns=drop_col, axis=1, inplace=True)"
      ],
      "metadata": {
        "id": "J4F5pxPhzXye"
      },
      "execution_count": null,
      "outputs": []
    },
    {
      "cell_type": "markdown",
      "source": [
        "Удалим ФИО, так как не несет никакого смысла для обучения <br>\n",
        "Удалим ученую степень и звание 2, так как нет значений(только пробелы). <br>\n",
        "Удалим Education_4-6 и Desc_Education_4-6 так как мало значений."
      ],
      "metadata": {
        "id": "B4-GQhlXtycQ"
      }
    },
    {
      "cell_type": "code",
      "source": [
        "mask = (train['tutor_rating'].isna()) & (train['tutor_reviews'] > 0)\n",
        "check = train[mask]\n",
        "print(check)"
      ],
      "metadata": {
        "colab": {
          "base_uri": "https://localhost:8080/"
        },
        "id": "ffTT_Kqo0nIS",
        "outputId": "65aa4818-5530-4896-a68e-9754fcd7999a"
      },
      "execution_count": null,
      "outputs": [
        {
          "output_type": "stream",
          "name": "stdout",
          "text": [
            "Empty DataFrame\n",
            "Columns: [Unnamed: 0, предмет, ФИО, tutor_head_tags, tutor_rating, tutor_reviews, description, experience_desc, Education_1, Desc_Education_1, Education_2, Desc_Education_2, Education_3, Desc_Education_3, Education_4, Desc_Education_4, Ученая степень 1, Ученое звание 1, status, experience, Desc_Education_5, Desc_Education_6, Education_5, Education_6, Ученая степень 2, Ученое звание 2, categories, mean_price]\n",
            "Index: []\n"
          ]
        }
      ]
    },
    {
      "cell_type": "code",
      "source": [
        "mask = (test['tutor_rating'].isna()) & (test['tutor_reviews'] > 0)\n",
        "check = test[mask]\n",
        "print(check)"
      ],
      "metadata": {
        "colab": {
          "base_uri": "https://localhost:8080/"
        },
        "id": "HHjHKb4h2KNI",
        "outputId": "9646a522-ed64-4199-c9c2-fab531a9706d"
      },
      "execution_count": null,
      "outputs": [
        {
          "output_type": "stream",
          "name": "stdout",
          "text": [
            "Empty DataFrame\n",
            "Columns: [Unnamed: 0, предмет, ФИО, tutor_head_tags, tutor_rating, tutor_reviews, description, experience_desc, Education_1, Desc_Education_1, Education_2, Desc_Education_2, Education_3, Desc_Education_3, Education_4, Desc_Education_4, Ученая степень 1, Ученое звание 1, status, experience, Desc_Education_5, Desc_Education_6, Education_5, Education_6, Ученая степень 2, Ученое звание 2, categories]\n",
            "Index: []\n"
          ]
        }
      ]
    },
    {
      "cell_type": "code",
      "source": [
        "train['tutor_rating'] = train['tutor_rating'].fillna(0)\n",
        "test['tutor_rating'] = test['tutor_rating'].fillna(0)"
      ],
      "metadata": {
        "id": "bFtgNWOPmUwz"
      },
      "execution_count": null,
      "outputs": []
    },
    {
      "cell_type": "markdown",
      "source": [
        "Пропуски в рейтинге есть только при нуле отзывов, поэтому заполним из нулями"
      ],
      "metadata": {
        "id": "mqA3PGoMuexY"
      }
    },
    {
      "cell_type": "code",
      "source": [
        "train['experience'] = train['experience'].fillna('0')\n",
        "train['experience'] = train['experience'].str.split().str[0].astype(int)\n",
        "\n",
        "test['experience'] = test['experience'].fillna('0')\n",
        "test['experience'] = test['experience'].str.split().str[0].astype(int)"
      ],
      "metadata": {
        "id": "Oftb4IK8mZGi"
      },
      "execution_count": null,
      "outputs": []
    },
    {
      "cell_type": "markdown",
      "source": [
        "Из опыта берем число лет"
      ],
      "metadata": {
        "id": "f_QITrKDunMs"
      }
    },
    {
      "cell_type": "code",
      "source": [
        "for index in range(2, 4):\n",
        "    train[f'Education_{index}'] = train[f'Education_{index}'].fillna('репетитор не предоставил информацию об образовании')\n",
        "    train[f'Education_{index}'] = train[f'Education_{index}'].apply(lambda x: x.lower().strip())\n",
        "\n",
        "    mask = train[f'Education_{index}'] == 'репетитор не предоставил информацию об образовании'\n",
        "    train[f'Education_{index}'] = (~mask).astype(int)\n",
        "\n",
        "    test[f'Education_{index}'] = test[f'Education_{index}'].fillna('репетитор не предоставил информацию об образовании')\n",
        "    test[f'Education_{index}'] = test[f'Education_{index}'].apply(lambda x: x.lower().strip())\n",
        "\n",
        "    mask = test[f'Education_{index}'] == 'репетитор не предоставил информацию об образовании'\n",
        "    test[f'Education_{index}'] = (~mask).astype(int)"
      ],
      "metadata": {
        "id": "dQyEGECynUN0"
      },
      "execution_count": null,
      "outputs": []
    },
    {
      "cell_type": "code",
      "source": [
        "train['Ученая степень 1'] = train['Ученая степень 1'].replace(' ', np.nan)\n",
        "train['Ученое звание 1'] = train['Ученое звание 1'].replace(' ', np.nan)\n",
        "test['Ученая степень 1'] = test['Ученая степень 1'].replace(' ', np.nan)\n",
        "test['Ученое звание 1'] = test['Ученое звание 1'].replace(' ', np.nan)\n",
        "\n",
        "train.loc[train['Ученое звание 1'].notna(), 'Ученое звание 1'] = 1\n",
        "train.loc[train['Ученая степень 1'].notna(), 'Ученая степень 1'] = 1\n",
        "test.loc[test['Ученое звание 1'].notna(), 'Ученое звание 1'] = 1\n",
        "test.loc[test['Ученая степень 1'].notna(), 'Ученая степень 1'] = 1\n",
        "\n",
        "train['Ученое звание 1'] = train['Ученое звание 1'].fillna(0)\n",
        "train['Ученая степень 1'] = train['Ученая степень 1'].fillna(0)\n",
        "test['Ученое звание 1'] = test['Ученое звание 1'].fillna(0)\n",
        "test['Ученая степень 1'] = test['Ученая степень 1'].fillna(0)"
      ],
      "metadata": {
        "colab": {
          "base_uri": "https://localhost:8080/"
        },
        "id": "DwJ81OdZxGMU",
        "outputId": "d2980803-48dc-4cf5-caae-a09834b8a693"
      },
      "execution_count": null,
      "outputs": [
        {
          "output_type": "stream",
          "name": "stderr",
          "text": [
            "<ipython-input-294-50a2951158ec>:11: FutureWarning: Downcasting object dtype arrays on .fillna, .ffill, .bfill is deprecated and will change in a future version. Call result.infer_objects(copy=False) instead. To opt-in to the future behavior, set `pd.set_option('future.no_silent_downcasting', True)`\n",
            "  train['Ученое звание 1'] = train['Ученое звание 1'].fillna(0)\n",
            "<ipython-input-294-50a2951158ec>:12: FutureWarning: Downcasting object dtype arrays on .fillna, .ffill, .bfill is deprecated and will change in a future version. Call result.infer_objects(copy=False) instead. To opt-in to the future behavior, set `pd.set_option('future.no_silent_downcasting', True)`\n",
            "  train['Ученая степень 1'] = train['Ученая степень 1'].fillna(0)\n",
            "<ipython-input-294-50a2951158ec>:13: FutureWarning: Downcasting object dtype arrays on .fillna, .ffill, .bfill is deprecated and will change in a future version. Call result.infer_objects(copy=False) instead. To opt-in to the future behavior, set `pd.set_option('future.no_silent_downcasting', True)`\n",
            "  test['Ученое звание 1'] = test['Ученое звание 1'].fillna(0)\n",
            "<ipython-input-294-50a2951158ec>:14: FutureWarning: Downcasting object dtype arrays on .fillna, .ffill, .bfill is deprecated and will change in a future version. Call result.infer_objects(copy=False) instead. To opt-in to the future behavior, set `pd.set_option('future.no_silent_downcasting', True)`\n",
            "  test['Ученая степень 1'] = test['Ученая степень 1'].fillna(0)\n"
          ]
        }
      ]
    },
    {
      "cell_type": "markdown",
      "source": [
        "Переводим второе и третье образование в бинарный признак(есть\\нет). То же самое повторяем с званием и степенью"
      ],
      "metadata": {
        "id": "zXUmzaTLu1Yu"
      }
    },
    {
      "cell_type": "code",
      "source": [
        "train['tutor_head_tags'] = train['tutor_head_tags'].apply(ast.literal_eval)\n",
        "test['tutor_head_tags'] = test['tutor_head_tags'].apply(ast.literal_eval)\n",
        "\n",
        "tags_df = train[['tutor_head_tags', 'mean_price']].explode('tutor_head_tags')\n",
        "\n",
        "tag_mean_price = tags_df.groupby('tutor_head_tags')['mean_price'].mean()\n",
        "\n",
        "tag_price_dict = tag_mean_price.to_dict()\n",
        "\n",
        "global_mean_price = train['mean_price'].mean()\n",
        "\n",
        "def compute_tag_price(tags):\n",
        "    prices = [tag_price_dict.get(tag) for tag in tags if tag in tag_price_dict]\n",
        "    if prices:\n",
        "        return np.mean(prices)\n",
        "    else:\n",
        "        return global_mean_price\n",
        "\n",
        "train['tutor_head_tags'] = train['tutor_head_tags'].apply(compute_tag_price)\n",
        "test['tutor_head_tags'] = test['tutor_head_tags'].apply(compute_tag_price)\n"
      ],
      "metadata": {
        "id": "EVpIZ-tAnQnZ"
      },
      "execution_count": null,
      "outputs": []
    },
    {
      "cell_type": "code",
      "source": [
        "train['categories'] = train['categories'].apply(ast.literal_eval)\n",
        "test['categories'] = test['categories'].apply(ast.literal_eval)\n",
        "\n",
        "tags_df = train[['categories', 'mean_price']].explode('categories')\n",
        "\n",
        "tag_mean_price = tags_df.groupby('categories')['mean_price'].mean()\n",
        "\n",
        "tag_price_dict = tag_mean_price.to_dict()\n",
        "\n",
        "def compute_tag_price(tags):\n",
        "    prices = [tag_price_dict.get(tag) for tag in tags if tag in tag_price_dict]\n",
        "    return np.mean(prices) if prices else np.nan\n",
        "\n",
        "train['categories'] = train['categories'].apply(compute_tag_price)\n",
        "test['categories'] = test['categories'].apply(compute_tag_price)"
      ],
      "metadata": {
        "id": "JO3Ro5vWnjdU"
      },
      "execution_count": null,
      "outputs": []
    },
    {
      "cell_type": "code",
      "source": [
        "train['status'] = train['status'].fillna('нет')\n",
        "test['status'] = test['status'].fillna('нет')\n",
        "\n",
        "train['status'] = train['status'].str.lower()\n",
        "train['status'] = train['status'].str.split(',')\n",
        "test['status'] = test['status'].str.lower()\n",
        "test['status'] = test['status'].str.split(',')\n",
        "\n",
        "tags_df = train[['status', 'mean_price']].explode('status')\n",
        "\n",
        "tag_mean_price = tags_df.groupby('status')['mean_price'].mean()\n",
        "\n",
        "tag_price_dict = tag_mean_price.to_dict()\n",
        "\n",
        "def compute_tag_price(tags):\n",
        "    prices = [tag_price_dict.get(tag) for tag in tags if tag in tag_price_dict]\n",
        "    return np.mean(prices) if prices else np.nan\n",
        "\n",
        "train['status'] = train['status'].apply(compute_tag_price)\n",
        "test['status'] = test['status'].apply(compute_tag_price)"
      ],
      "metadata": {
        "id": "pZoESDLonlIC"
      },
      "execution_count": null,
      "outputs": []
    },
    {
      "cell_type": "code",
      "source": [
        "train['предмет'] = train['предмет'].str.strip().str.lower()\n",
        "test['предмет'] = test['предмет'].str.strip().str.lower()\n",
        "\n",
        "subject_mean_price = train.groupby('предмет')['mean_price'].mean()\n",
        "subject_price_dict = subject_mean_price.to_dict()\n",
        "\n",
        "train['предмет'] = train['предмет'].map(subject_price_dict)\n",
        "test['предмет'] = test['предмет'].map(subject_price_dict)\n",
        "\n",
        "default_price = train['mean_price'].mean()\n",
        "test['предмет'] = test['предмет'].fillna(default_price)"
      ],
      "metadata": {
        "id": "hJebFS7jsvhU"
      },
      "execution_count": null,
      "outputs": []
    },
    {
      "cell_type": "markdown",
      "source": [
        "Категориальные переменные кодируем срденим значениме целевой переменной по категории"
      ],
      "metadata": {
        "id": "NBn_xA2HvAEK"
      }
    },
    {
      "cell_type": "code",
      "source": [
        "def clean_education_name(text):\n",
        "    if pd.isna(text):\n",
        "        return \"unknown\"\n",
        "    text = text.lower()\n",
        "    text = re.sub(r'[^а-яёa-z]', '', text)\n",
        "    return text\n",
        "\n",
        "train['Education_1'] = train['Education_1'].apply(clean_education_name)\n",
        "train['Education_1'] = train['Education_1'].replace('репетиторнепредоставилинформациюобобразовании', 'unknown')\n",
        "test['Education_1'] = test['Education_1'].apply(clean_education_name)\n",
        "test['Education_1'] = test['Education_1'].replace('репетиторнепредоставилинформациюобобразовании', 'unknown')"
      ],
      "metadata": {
        "id": "rXbSoJSwrQ4U"
      },
      "execution_count": null,
      "outputs": []
    },
    {
      "cell_type": "markdown",
      "source": [
        "Чтобы уменьшить количесвто разных написаний одного университета, приводим строки к нижнему регистру и оставляем только буквы"
      ],
      "metadata": {
        "id": "3RUc_wh_vPLo"
      }
    },
    {
      "cell_type": "code",
      "source": [
        "top_n_edu1 = train['Education_1'].value_counts().nlargest(20).index\n",
        "train['Education_1'] = train['Education_1'].where(train['Education_1'].isin(top_n_edu1), 'other')\n",
        "\n",
        "top_n_edu1 = test['Education_1'].value_counts().nlargest(20).index\n",
        "test['Education_1'] = test['Education_1'].where(test['Education_1'].isin(top_n_edu1), 'other')"
      ],
      "metadata": {
        "id": "XLk0MirSrZzh"
      },
      "execution_count": null,
      "outputs": []
    },
    {
      "cell_type": "code",
      "source": [
        "subject_mean_price = train.groupby('Education_1')['mean_price'].mean()\n",
        "subject_price_dict = subject_mean_price.to_dict()\n",
        "\n",
        "train['Education_1'] = train['Education_1'].map(subject_price_dict)\n",
        "test['Education_1'] = test['Education_1'].map(subject_price_dict)\n",
        "\n",
        "default_price = train['mean_price'].mean()\n",
        "test['Education_1'] = test['Education_1'].fillna(default_price)"
      ],
      "metadata": {
        "id": "XMfLYh8uQ6l7"
      },
      "execution_count": null,
      "outputs": []
    },
    {
      "cell_type": "markdown",
      "source": [
        "Берем 20 популярнейших вузов, остальные кодируем в other. Потом берем среднее по категории"
      ],
      "metadata": {
        "id": "r_y4-L7Ovbg2"
      }
    },
    {
      "cell_type": "code",
      "source": [
        "train.info()"
      ],
      "metadata": {
        "colab": {
          "base_uri": "https://localhost:8080/"
        },
        "id": "jSKguanLP-Z9",
        "outputId": "dba1ac55-0c78-4f88-bf31-1fdad0bc6b88"
      },
      "execution_count": null,
      "outputs": [
        {
          "output_type": "stream",
          "name": "stdout",
          "text": [
            "<class 'pandas.core.frame.DataFrame'>\n",
            "RangeIndex: 4548 entries, 0 to 4547\n",
            "Data columns (total 16 columns):\n",
            " #   Column            Non-Null Count  Dtype  \n",
            "---  ------            --------------  -----  \n",
            " 0   предмет           4548 non-null   float64\n",
            " 1   tutor_head_tags   4548 non-null   float64\n",
            " 2   tutor_rating      4548 non-null   float64\n",
            " 3   tutor_reviews     4548 non-null   int64  \n",
            " 4   description       4547 non-null   object \n",
            " 5   experience_desc   2171 non-null   object \n",
            " 6   Education_1       4548 non-null   float64\n",
            " 7   Desc_Education_1  4472 non-null   object \n",
            " 8   Education_2       4548 non-null   int64  \n",
            " 9   Education_3       4548 non-null   int64  \n",
            " 10  Ученая степень 1  4548 non-null   int64  \n",
            " 11  Ученое звание 1   4548 non-null   int64  \n",
            " 12  status            4548 non-null   float64\n",
            " 13  experience        4548 non-null   int64  \n",
            " 14  categories        4548 non-null   float64\n",
            " 15  mean_price        4548 non-null   float64\n",
            "dtypes: float64(7), int64(6), object(3)\n",
            "memory usage: 568.6+ KB\n"
          ]
        }
      ]
    },
    {
      "cell_type": "code",
      "source": [
        "train['description'] = train['description'].fillna('репетитор не предоставил о себе дополнительных сведений')\n",
        "train['description'] = train['description'].apply(lambda x: x.lower().strip())\n",
        "\n",
        "test['description'] = test['description'].fillna('репетитор не предоставил о себе дополнительных сведений')\n",
        "test['description'] = test['description'].apply(lambda x: x.lower().strip())\n",
        "\n",
        "vectorizer = TfidfVectorizer(max_features=100)\n",
        "X_text = vectorizer.fit_transform(train['description'])\n",
        "\n",
        "tfidf_df_train = pd.DataFrame(X_text.toarray(), columns=vectorizer.get_feature_names_out(), index=train.index)\n",
        "train.drop(columns=['description'], inplace=True)\n",
        "train = pd.concat([train, tfidf_df_train], axis=1)\n",
        "\n",
        "X_text = vectorizer.transform(test['description'])\n",
        "tfidf_df_test = pd.DataFrame(X_text.toarray(), columns=vectorizer.get_feature_names_out(), index=test.index)\n",
        "test.drop(columns=['description'], inplace=True)\n",
        "test = pd.concat([test, tfidf_df_test], axis=1)"
      ],
      "metadata": {
        "id": "-kMaEDvUpoNN"
      },
      "execution_count": null,
      "outputs": []
    },
    {
      "cell_type": "code",
      "source": [
        "train['experience_desc'] = train['experience_desc'].fillna('репетитор не предоставил информацию об опыте работы')\n",
        "train['experience_desc'] = train['experience_desc'].apply(lambda x: x.lower().strip())\n",
        "\n",
        "test['experience_desc'] = test['experience_desc'].fillna('репетитор не предоставил информацию об опыте работы')\n",
        "test['experience_desc'] = test['experience_desc'].apply(lambda x: x.lower().strip())\n",
        "\n",
        "vectorizer = TfidfVectorizer(max_features=100)\n",
        "X_text = vectorizer.fit_transform(train['experience_desc'])\n",
        "\n",
        "tfidf_df_train = pd.DataFrame(X_text.toarray(), columns=vectorizer.get_feature_names_out(), index=train.index)\n",
        "train.drop(columns=['experience_desc'], inplace=True)\n",
        "train = pd.concat([train, tfidf_df_train], axis=1)\n",
        "\n",
        "X_text = vectorizer.transform(test['experience_desc'])\n",
        "tfidf_df_test = pd.DataFrame(X_text.toarray(), columns=vectorizer.get_feature_names_out(), index=test.index)\n",
        "test.drop(columns=['experience_desc'], inplace=True)\n",
        "test = pd.concat([test, tfidf_df_test], axis=1)"
      ],
      "metadata": {
        "id": "WBuvVnWnoJTm"
      },
      "execution_count": null,
      "outputs": []
    },
    {
      "cell_type": "code",
      "source": [
        "for i in range(1, 2):\n",
        "  train[f'Desc_Education_{i}'] = train[f'Desc_Education_{i}'].fillna('нет описания')\n",
        "  train[f'Desc_Education_{i}'] = train[f'Desc_Education_{i}'].apply(lambda x: x.lower().strip())\n",
        "\n",
        "  test[f'Desc_Education_{i}'] = test[f'Desc_Education_{i}'].fillna('нет описания')\n",
        "  test[f'Desc_Education_{i}'] = test[f'Desc_Education_{i}'].apply(lambda x: x.lower().strip())\n",
        "\n",
        "  vectorizer = TfidfVectorizer(max_features=50)\n",
        "  X_text = vectorizer.fit_transform(train[f'Desc_Education_{i}'])\n",
        "\n",
        "  tfidf_df_train = pd.DataFrame(X_text.toarray(), columns=vectorizer.get_feature_names_out(), index=train.index)\n",
        "  train.drop(columns=[f'Desc_Education_{i}'], inplace=True)\n",
        "  train = pd.concat([train, tfidf_df_train], axis=1)\n",
        "\n",
        "  X_text = vectorizer.transform(test[f'Desc_Education_{i}'])\n",
        "  tfidf_df_test = pd.DataFrame(X_text.toarray(), columns=vectorizer.get_feature_names_out(), index=test.index)\n",
        "  test.drop(columns=[f'Desc_Education_{i}'], inplace=True)\n",
        "  test = pd.concat([test, tfidf_df_test], axis=1)"
      ],
      "metadata": {
        "id": "VKrxVi5USx1M"
      },
      "execution_count": null,
      "outputs": []
    },
    {
      "cell_type": "markdown",
      "source": [
        "Векторизуем описание, описание опыта работы и описание образования"
      ],
      "metadata": {
        "id": "CuwGk4Z8vphA"
      }
    },
    {
      "cell_type": "code",
      "source": [
        "train.info()"
      ],
      "metadata": {
        "colab": {
          "base_uri": "https://localhost:8080/"
        },
        "id": "IFfqVs4Nqkyv",
        "outputId": "1d7bcdee-2e5f-4e8a-a590-0305043b3d57"
      },
      "execution_count": null,
      "outputs": [
        {
          "output_type": "stream",
          "name": "stdout",
          "text": [
            "<class 'pandas.core.frame.DataFrame'>\n",
            "RangeIndex: 4548 entries, 0 to 4547\n",
            "Columns: 263 entries, предмет to экономика\n",
            "dtypes: float64(257), int64(6)\n",
            "memory usage: 9.1 MB\n"
          ]
        }
      ]
    },
    {
      "cell_type": "markdown",
      "source": [
        "**Машинное обучение**"
      ],
      "metadata": {
        "id": "CREY33DQ7nC8"
      }
    },
    {
      "cell_type": "code",
      "source": [
        "X = train.drop(['mean_price'], axis=1)\n",
        "Y = train['mean_price']\n",
        "x_train, x_test, y_train, y_test = train_test_split(X, Y, test_size=0.3, random_state=42)"
      ],
      "metadata": {
        "id": "0MohKb2wqvRs"
      },
      "execution_count": null,
      "outputs": []
    },
    {
      "cell_type": "markdown",
      "source": [
        "Для проверки стратегии"
      ],
      "metadata": {
        "id": "Q50p0FGuvyOy"
      }
    },
    {
      "cell_type": "code",
      "source": [
        "x_train = train.drop(['mean_price'], axis=1)\n",
        "y_train = train['mean_price']\n",
        "x_test = test"
      ],
      "metadata": {
        "id": "Pr6HOTKAqwyv"
      },
      "execution_count": null,
      "outputs": []
    },
    {
      "cell_type": "markdown",
      "source": [
        "Для финального ответа"
      ],
      "metadata": {
        "id": "mo_BLcE143df"
      }
    },
    {
      "cell_type": "code",
      "source": [
        "std = StandardScaler()\n",
        "x_train_scaled = std.fit_transform(x_train)\n",
        "x_test_scaled = std.transform(x_test)"
      ],
      "metadata": {
        "id": "da_M2mYYqx5g"
      },
      "execution_count": null,
      "outputs": []
    },
    {
      "cell_type": "code",
      "source": [
        "lin_reg = LinearRegression()\n",
        "lin_reg.fit(x_train_scaled, y_train)\n",
        "y_pred = lin_reg.predict(x_test_scaled)"
      ],
      "metadata": {
        "id": "QEWAO8GJqziQ"
      },
      "execution_count": null,
      "outputs": []
    },
    {
      "cell_type": "code",
      "source": [
        "print('Mean Absolute Error:', mean_absolute_error(y_test, y_pred))\n",
        "print('Mean Squared Error:', mean_squared_error(y_test, y_pred))\n",
        "print('R2 score:', r2_score(y_test, y_pred))"
      ],
      "metadata": {
        "colab": {
          "base_uri": "https://localhost:8080/"
        },
        "id": "KLIK9V_Zq1RM",
        "outputId": "9ea5a96d-2546-4460-ea6e-6a47766d5867"
      },
      "execution_count": null,
      "outputs": [
        {
          "output_type": "stream",
          "name": "stdout",
          "text": [
            "Mean Absolute Error: 6.666593086945306\n",
            "Mean Squared Error: 95.428619872298\n",
            "R2 score: 0.1639138794653825\n"
          ]
        }
      ]
    },
    {
      "cell_type": "code",
      "source": [
        "scores = []\n",
        "\n",
        "for i in range(3, 31):\n",
        "    score = {}\n",
        "    knn = KNeighborsRegressor(i)\n",
        "    knn.fit(x_train_scaled, y_train)\n",
        "    answers = knn.predict(x_test_scaled)\n",
        "\n",
        "    score['k'] = i\n",
        "    score['MSE'] = mean_squared_error(y_test, answers)\n",
        "    score['r2'] = r2_score(y_test, answers)\n",
        "    scores.append(score)\n",
        "\n",
        "scores = pd.DataFrame(scores)\n",
        "scores"
      ],
      "metadata": {
        "colab": {
          "base_uri": "https://localhost:8080/",
          "height": 927
        },
        "id": "vDYJRLQAq3xe",
        "outputId": "45b59d51-5f0e-40e9-cad9-2c7cc2fa42cc"
      },
      "execution_count": null,
      "outputs": [
        {
          "output_type": "execute_result",
          "data": {
            "text/plain": [
              "     k         MSE        r2\n",
              "0    3  121.227964 -0.062124\n",
              "1    4  116.351482 -0.019399\n",
              "2    5  114.290284 -0.001340\n",
              "3    6  113.224028  0.008002\n",
              "4    7  112.475452  0.014560\n",
              "5    8  111.417403  0.023830\n",
              "6    9  110.473274  0.032102\n",
              "7   10  110.329821  0.033359\n",
              "8   11  109.706514  0.038820\n",
              "9   12  110.189655  0.034587\n",
              "10  13  110.023779  0.036040\n",
              "11  14  109.671241  0.039129\n",
              "12  15  109.554137  0.040155\n",
              "13  16  109.524898  0.040411\n",
              "14  17  110.068881  0.035645\n",
              "15  18  110.417941  0.032587\n",
              "16  19  110.530147  0.031604\n",
              "17  20  110.961982  0.027820\n",
              "18  21  111.316631  0.024713\n",
              "19  22  111.605092  0.022186\n",
              "20  23  111.853800  0.020007\n",
              "21  24  112.133205  0.017559\n",
              "22  25  112.419754  0.015048\n",
              "23  26  112.391678  0.015294\n",
              "24  27  112.284606  0.016232\n",
              "25  28  112.276208  0.016306\n",
              "26  29  112.225699  0.016748\n",
              "27  30  112.155738  0.017361"
            ],
            "text/html": [
              "\n",
              "  <div id=\"df-82b04940-75a9-440c-84dc-056605fe2f95\" class=\"colab-df-container\">\n",
              "    <div>\n",
              "<style scoped>\n",
              "    .dataframe tbody tr th:only-of-type {\n",
              "        vertical-align: middle;\n",
              "    }\n",
              "\n",
              "    .dataframe tbody tr th {\n",
              "        vertical-align: top;\n",
              "    }\n",
              "\n",
              "    .dataframe thead th {\n",
              "        text-align: right;\n",
              "    }\n",
              "</style>\n",
              "<table border=\"1\" class=\"dataframe\">\n",
              "  <thead>\n",
              "    <tr style=\"text-align: right;\">\n",
              "      <th></th>\n",
              "      <th>k</th>\n",
              "      <th>MSE</th>\n",
              "      <th>r2</th>\n",
              "    </tr>\n",
              "  </thead>\n",
              "  <tbody>\n",
              "    <tr>\n",
              "      <th>0</th>\n",
              "      <td>3</td>\n",
              "      <td>121.227964</td>\n",
              "      <td>-0.062124</td>\n",
              "    </tr>\n",
              "    <tr>\n",
              "      <th>1</th>\n",
              "      <td>4</td>\n",
              "      <td>116.351482</td>\n",
              "      <td>-0.019399</td>\n",
              "    </tr>\n",
              "    <tr>\n",
              "      <th>2</th>\n",
              "      <td>5</td>\n",
              "      <td>114.290284</td>\n",
              "      <td>-0.001340</td>\n",
              "    </tr>\n",
              "    <tr>\n",
              "      <th>3</th>\n",
              "      <td>6</td>\n",
              "      <td>113.224028</td>\n",
              "      <td>0.008002</td>\n",
              "    </tr>\n",
              "    <tr>\n",
              "      <th>4</th>\n",
              "      <td>7</td>\n",
              "      <td>112.475452</td>\n",
              "      <td>0.014560</td>\n",
              "    </tr>\n",
              "    <tr>\n",
              "      <th>5</th>\n",
              "      <td>8</td>\n",
              "      <td>111.417403</td>\n",
              "      <td>0.023830</td>\n",
              "    </tr>\n",
              "    <tr>\n",
              "      <th>6</th>\n",
              "      <td>9</td>\n",
              "      <td>110.473274</td>\n",
              "      <td>0.032102</td>\n",
              "    </tr>\n",
              "    <tr>\n",
              "      <th>7</th>\n",
              "      <td>10</td>\n",
              "      <td>110.329821</td>\n",
              "      <td>0.033359</td>\n",
              "    </tr>\n",
              "    <tr>\n",
              "      <th>8</th>\n",
              "      <td>11</td>\n",
              "      <td>109.706514</td>\n",
              "      <td>0.038820</td>\n",
              "    </tr>\n",
              "    <tr>\n",
              "      <th>9</th>\n",
              "      <td>12</td>\n",
              "      <td>110.189655</td>\n",
              "      <td>0.034587</td>\n",
              "    </tr>\n",
              "    <tr>\n",
              "      <th>10</th>\n",
              "      <td>13</td>\n",
              "      <td>110.023779</td>\n",
              "      <td>0.036040</td>\n",
              "    </tr>\n",
              "    <tr>\n",
              "      <th>11</th>\n",
              "      <td>14</td>\n",
              "      <td>109.671241</td>\n",
              "      <td>0.039129</td>\n",
              "    </tr>\n",
              "    <tr>\n",
              "      <th>12</th>\n",
              "      <td>15</td>\n",
              "      <td>109.554137</td>\n",
              "      <td>0.040155</td>\n",
              "    </tr>\n",
              "    <tr>\n",
              "      <th>13</th>\n",
              "      <td>16</td>\n",
              "      <td>109.524898</td>\n",
              "      <td>0.040411</td>\n",
              "    </tr>\n",
              "    <tr>\n",
              "      <th>14</th>\n",
              "      <td>17</td>\n",
              "      <td>110.068881</td>\n",
              "      <td>0.035645</td>\n",
              "    </tr>\n",
              "    <tr>\n",
              "      <th>15</th>\n",
              "      <td>18</td>\n",
              "      <td>110.417941</td>\n",
              "      <td>0.032587</td>\n",
              "    </tr>\n",
              "    <tr>\n",
              "      <th>16</th>\n",
              "      <td>19</td>\n",
              "      <td>110.530147</td>\n",
              "      <td>0.031604</td>\n",
              "    </tr>\n",
              "    <tr>\n",
              "      <th>17</th>\n",
              "      <td>20</td>\n",
              "      <td>110.961982</td>\n",
              "      <td>0.027820</td>\n",
              "    </tr>\n",
              "    <tr>\n",
              "      <th>18</th>\n",
              "      <td>21</td>\n",
              "      <td>111.316631</td>\n",
              "      <td>0.024713</td>\n",
              "    </tr>\n",
              "    <tr>\n",
              "      <th>19</th>\n",
              "      <td>22</td>\n",
              "      <td>111.605092</td>\n",
              "      <td>0.022186</td>\n",
              "    </tr>\n",
              "    <tr>\n",
              "      <th>20</th>\n",
              "      <td>23</td>\n",
              "      <td>111.853800</td>\n",
              "      <td>0.020007</td>\n",
              "    </tr>\n",
              "    <tr>\n",
              "      <th>21</th>\n",
              "      <td>24</td>\n",
              "      <td>112.133205</td>\n",
              "      <td>0.017559</td>\n",
              "    </tr>\n",
              "    <tr>\n",
              "      <th>22</th>\n",
              "      <td>25</td>\n",
              "      <td>112.419754</td>\n",
              "      <td>0.015048</td>\n",
              "    </tr>\n",
              "    <tr>\n",
              "      <th>23</th>\n",
              "      <td>26</td>\n",
              "      <td>112.391678</td>\n",
              "      <td>0.015294</td>\n",
              "    </tr>\n",
              "    <tr>\n",
              "      <th>24</th>\n",
              "      <td>27</td>\n",
              "      <td>112.284606</td>\n",
              "      <td>0.016232</td>\n",
              "    </tr>\n",
              "    <tr>\n",
              "      <th>25</th>\n",
              "      <td>28</td>\n",
              "      <td>112.276208</td>\n",
              "      <td>0.016306</td>\n",
              "    </tr>\n",
              "    <tr>\n",
              "      <th>26</th>\n",
              "      <td>29</td>\n",
              "      <td>112.225699</td>\n",
              "      <td>0.016748</td>\n",
              "    </tr>\n",
              "    <tr>\n",
              "      <th>27</th>\n",
              "      <td>30</td>\n",
              "      <td>112.155738</td>\n",
              "      <td>0.017361</td>\n",
              "    </tr>\n",
              "  </tbody>\n",
              "</table>\n",
              "</div>\n",
              "    <div class=\"colab-df-buttons\">\n",
              "\n",
              "  <div class=\"colab-df-container\">\n",
              "    <button class=\"colab-df-convert\" onclick=\"convertToInteractive('df-82b04940-75a9-440c-84dc-056605fe2f95')\"\n",
              "            title=\"Convert this dataframe to an interactive table.\"\n",
              "            style=\"display:none;\">\n",
              "\n",
              "  <svg xmlns=\"http://www.w3.org/2000/svg\" height=\"24px\" viewBox=\"0 -960 960 960\">\n",
              "    <path d=\"M120-120v-720h720v720H120Zm60-500h600v-160H180v160Zm220 220h160v-160H400v160Zm0 220h160v-160H400v160ZM180-400h160v-160H180v160Zm440 0h160v-160H620v160ZM180-180h160v-160H180v160Zm440 0h160v-160H620v160Z\"/>\n",
              "  </svg>\n",
              "    </button>\n",
              "\n",
              "  <style>\n",
              "    .colab-df-container {\n",
              "      display:flex;\n",
              "      gap: 12px;\n",
              "    }\n",
              "\n",
              "    .colab-df-convert {\n",
              "      background-color: #E8F0FE;\n",
              "      border: none;\n",
              "      border-radius: 50%;\n",
              "      cursor: pointer;\n",
              "      display: none;\n",
              "      fill: #1967D2;\n",
              "      height: 32px;\n",
              "      padding: 0 0 0 0;\n",
              "      width: 32px;\n",
              "    }\n",
              "\n",
              "    .colab-df-convert:hover {\n",
              "      background-color: #E2EBFA;\n",
              "      box-shadow: 0px 1px 2px rgba(60, 64, 67, 0.3), 0px 1px 3px 1px rgba(60, 64, 67, 0.15);\n",
              "      fill: #174EA6;\n",
              "    }\n",
              "\n",
              "    .colab-df-buttons div {\n",
              "      margin-bottom: 4px;\n",
              "    }\n",
              "\n",
              "    [theme=dark] .colab-df-convert {\n",
              "      background-color: #3B4455;\n",
              "      fill: #D2E3FC;\n",
              "    }\n",
              "\n",
              "    [theme=dark] .colab-df-convert:hover {\n",
              "      background-color: #434B5C;\n",
              "      box-shadow: 0px 1px 3px 1px rgba(0, 0, 0, 0.15);\n",
              "      filter: drop-shadow(0px 1px 2px rgba(0, 0, 0, 0.3));\n",
              "      fill: #FFFFFF;\n",
              "    }\n",
              "  </style>\n",
              "\n",
              "    <script>\n",
              "      const buttonEl =\n",
              "        document.querySelector('#df-82b04940-75a9-440c-84dc-056605fe2f95 button.colab-df-convert');\n",
              "      buttonEl.style.display =\n",
              "        google.colab.kernel.accessAllowed ? 'block' : 'none';\n",
              "\n",
              "      async function convertToInteractive(key) {\n",
              "        const element = document.querySelector('#df-82b04940-75a9-440c-84dc-056605fe2f95');\n",
              "        const dataTable =\n",
              "          await google.colab.kernel.invokeFunction('convertToInteractive',\n",
              "                                                    [key], {});\n",
              "        if (!dataTable) return;\n",
              "\n",
              "        const docLinkHtml = 'Like what you see? Visit the ' +\n",
              "          '<a target=\"_blank\" href=https://colab.research.google.com/notebooks/data_table.ipynb>data table notebook</a>'\n",
              "          + ' to learn more about interactive tables.';\n",
              "        element.innerHTML = '';\n",
              "        dataTable['output_type'] = 'display_data';\n",
              "        await google.colab.output.renderOutput(dataTable, element);\n",
              "        const docLink = document.createElement('div');\n",
              "        docLink.innerHTML = docLinkHtml;\n",
              "        element.appendChild(docLink);\n",
              "      }\n",
              "    </script>\n",
              "  </div>\n",
              "\n",
              "\n",
              "    <div id=\"df-1fb96acf-848f-492f-b2ba-40fa25a589ea\">\n",
              "      <button class=\"colab-df-quickchart\" onclick=\"quickchart('df-1fb96acf-848f-492f-b2ba-40fa25a589ea')\"\n",
              "                title=\"Suggest charts\"\n",
              "                style=\"display:none;\">\n",
              "\n",
              "<svg xmlns=\"http://www.w3.org/2000/svg\" height=\"24px\"viewBox=\"0 0 24 24\"\n",
              "     width=\"24px\">\n",
              "    <g>\n",
              "        <path d=\"M19 3H5c-1.1 0-2 .9-2 2v14c0 1.1.9 2 2 2h14c1.1 0 2-.9 2-2V5c0-1.1-.9-2-2-2zM9 17H7v-7h2v7zm4 0h-2V7h2v10zm4 0h-2v-4h2v4z\"/>\n",
              "    </g>\n",
              "</svg>\n",
              "      </button>\n",
              "\n",
              "<style>\n",
              "  .colab-df-quickchart {\n",
              "      --bg-color: #E8F0FE;\n",
              "      --fill-color: #1967D2;\n",
              "      --hover-bg-color: #E2EBFA;\n",
              "      --hover-fill-color: #174EA6;\n",
              "      --disabled-fill-color: #AAA;\n",
              "      --disabled-bg-color: #DDD;\n",
              "  }\n",
              "\n",
              "  [theme=dark] .colab-df-quickchart {\n",
              "      --bg-color: #3B4455;\n",
              "      --fill-color: #D2E3FC;\n",
              "      --hover-bg-color: #434B5C;\n",
              "      --hover-fill-color: #FFFFFF;\n",
              "      --disabled-bg-color: #3B4455;\n",
              "      --disabled-fill-color: #666;\n",
              "  }\n",
              "\n",
              "  .colab-df-quickchart {\n",
              "    background-color: var(--bg-color);\n",
              "    border: none;\n",
              "    border-radius: 50%;\n",
              "    cursor: pointer;\n",
              "    display: none;\n",
              "    fill: var(--fill-color);\n",
              "    height: 32px;\n",
              "    padding: 0;\n",
              "    width: 32px;\n",
              "  }\n",
              "\n",
              "  .colab-df-quickchart:hover {\n",
              "    background-color: var(--hover-bg-color);\n",
              "    box-shadow: 0 1px 2px rgba(60, 64, 67, 0.3), 0 1px 3px 1px rgba(60, 64, 67, 0.15);\n",
              "    fill: var(--button-hover-fill-color);\n",
              "  }\n",
              "\n",
              "  .colab-df-quickchart-complete:disabled,\n",
              "  .colab-df-quickchart-complete:disabled:hover {\n",
              "    background-color: var(--disabled-bg-color);\n",
              "    fill: var(--disabled-fill-color);\n",
              "    box-shadow: none;\n",
              "  }\n",
              "\n",
              "  .colab-df-spinner {\n",
              "    border: 2px solid var(--fill-color);\n",
              "    border-color: transparent;\n",
              "    border-bottom-color: var(--fill-color);\n",
              "    animation:\n",
              "      spin 1s steps(1) infinite;\n",
              "  }\n",
              "\n",
              "  @keyframes spin {\n",
              "    0% {\n",
              "      border-color: transparent;\n",
              "      border-bottom-color: var(--fill-color);\n",
              "      border-left-color: var(--fill-color);\n",
              "    }\n",
              "    20% {\n",
              "      border-color: transparent;\n",
              "      border-left-color: var(--fill-color);\n",
              "      border-top-color: var(--fill-color);\n",
              "    }\n",
              "    30% {\n",
              "      border-color: transparent;\n",
              "      border-left-color: var(--fill-color);\n",
              "      border-top-color: var(--fill-color);\n",
              "      border-right-color: var(--fill-color);\n",
              "    }\n",
              "    40% {\n",
              "      border-color: transparent;\n",
              "      border-right-color: var(--fill-color);\n",
              "      border-top-color: var(--fill-color);\n",
              "    }\n",
              "    60% {\n",
              "      border-color: transparent;\n",
              "      border-right-color: var(--fill-color);\n",
              "    }\n",
              "    80% {\n",
              "      border-color: transparent;\n",
              "      border-right-color: var(--fill-color);\n",
              "      border-bottom-color: var(--fill-color);\n",
              "    }\n",
              "    90% {\n",
              "      border-color: transparent;\n",
              "      border-bottom-color: var(--fill-color);\n",
              "    }\n",
              "  }\n",
              "</style>\n",
              "\n",
              "      <script>\n",
              "        async function quickchart(key) {\n",
              "          const quickchartButtonEl =\n",
              "            document.querySelector('#' + key + ' button');\n",
              "          quickchartButtonEl.disabled = true;  // To prevent multiple clicks.\n",
              "          quickchartButtonEl.classList.add('colab-df-spinner');\n",
              "          try {\n",
              "            const charts = await google.colab.kernel.invokeFunction(\n",
              "                'suggestCharts', [key], {});\n",
              "          } catch (error) {\n",
              "            console.error('Error during call to suggestCharts:', error);\n",
              "          }\n",
              "          quickchartButtonEl.classList.remove('colab-df-spinner');\n",
              "          quickchartButtonEl.classList.add('colab-df-quickchart-complete');\n",
              "        }\n",
              "        (() => {\n",
              "          let quickchartButtonEl =\n",
              "            document.querySelector('#df-1fb96acf-848f-492f-b2ba-40fa25a589ea button');\n",
              "          quickchartButtonEl.style.display =\n",
              "            google.colab.kernel.accessAllowed ? 'block' : 'none';\n",
              "        })();\n",
              "      </script>\n",
              "    </div>\n",
              "    </div>\n",
              "  </div>\n"
            ],
            "application/vnd.google.colaboratory.intrinsic+json": {
              "type": "dataframe",
              "variable_name": "scores",
              "summary": "{\n  \"name\": \"scores\",\n  \"rows\": 28,\n  \"fields\": [\n    {\n      \"column\": \"k\",\n      \"properties\": {\n        \"dtype\": \"number\",\n        \"std\": 8,\n        \"min\": 3,\n        \"max\": 30,\n        \"num_unique_values\": 28,\n        \"samples\": [\n          12,\n          28,\n          11\n        ],\n        \"semantic_type\": \"\",\n        \"description\": \"\"\n      }\n    },\n    {\n      \"column\": \"MSE\",\n      \"properties\": {\n        \"dtype\": \"number\",\n        \"std\": 2.4062555750193204,\n        \"min\": 109.52489826123848,\n        \"max\": 121.22796401185273,\n        \"num_unique_values\": 28,\n        \"samples\": [\n          110.18965548833128,\n          112.27620767683804,\n          109.70651423136133\n        ],\n        \"semantic_type\": \"\",\n        \"description\": \"\"\n      }\n    },\n    {\n      \"column\": \"r2\",\n      \"properties\": {\n        \"dtype\": \"number\",\n        \"std\": 0.02108211238331775,\n        \"min\": -0.062123902311649326,\n        \"max\": 0.040411069428343716,\n        \"num_unique_values\": 28,\n        \"samples\": [\n          0.034586880711781176,\n          0.01630581024344402,\n          0.03881986343489696\n        ],\n        \"semantic_type\": \"\",\n        \"description\": \"\"\n      }\n    }\n  ]\n}"
            }
          },
          "metadata": {},
          "execution_count": 284
        }
      ]
    },
    {
      "cell_type": "code",
      "source": [
        "plt.plot(scores['k'], scores['r2'])\n",
        "plt.xlabel('k')\n",
        "plt.ylabel('R²')\n",
        "plt.title('R² в зависимости от числа соседей')\n",
        "plt.grid(True)\n",
        "plt.show()"
      ],
      "metadata": {
        "colab": {
          "base_uri": "https://localhost:8080/",
          "height": 472
        },
        "id": "XWhGijzPq5eJ",
        "outputId": "394e17f2-bac6-4bb1-d1f1-44955482cecf"
      },
      "execution_count": null,
      "outputs": [
        {
          "output_type": "display_data",
          "data": {
            "text/plain": [
              "<Figure size 640x480 with 1 Axes>"
            ],
            "image/png": "[encoded data removed]"
          },
          "metadata": {}
        }
      ]
    },
    {
      "cell_type": "code",
      "source": [
        "knn = KNeighborsRegressor(25)\n",
        "knn.fit(x_train_scaled, y_train)\n",
        "y_pred = knn.predict(x_test_scaled)"
      ],
      "metadata": {
        "id": "6IIYCCq_q8My"
      },
      "execution_count": null,
      "outputs": []
    },
    {
      "cell_type": "markdown",
      "source": [
        "**Формирование ответа**"
      ],
      "metadata": {
        "id": "JEhmb8oo7qdM"
      }
    },
    {
      "cell_type": "code",
      "source": [
        "d = {'mean_price' : y_pred}\n",
        "res = pd.DataFrame(d)\n",
        "res.index.name = 'index'\n",
        "res.to_csv('output.csv')"
      ],
      "metadata": {
        "id": "2FW7NnoTq9jZ"
      },
      "execution_count": null,
      "outputs": []
    }
  ]
}